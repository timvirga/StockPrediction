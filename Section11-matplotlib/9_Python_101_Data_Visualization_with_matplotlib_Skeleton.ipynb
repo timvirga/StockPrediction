{
  "cells": [
    {
      "cell_type": "markdown",
      "metadata": {
        "id": "SFN66X63c2RL"
      },
      "source": [
        "# 1. BASIC LINE PLOT"
      ]
    },
    {
      "cell_type": "code",
      "execution_count": 19,
      "metadata": {
        "id": "gJIkRSlJXRPf"
      },
      "outputs": [],
      "source": [
        "import pandas as pd\n",
        "import numpy as np\n",
        "import matplotlib.pyplot as plt\n",
        "import os\n"
      ]
    },
    {
      "cell_type": "code",
      "execution_count": 20,
      "metadata": {
        "id": "inkBDe-nXRUA"
      },
      "outputs": [
        {
          "data": {
            "text/plain": [
              "'c:\\\\Users\\\\tim.virga\\\\Documents\\\\Projects\\\\StockPrediction\\\\Section11-matplotlib'"
            ]
          },
          "execution_count": 20,
          "metadata": {},
          "output_type": "execute_result"
        }
      ],
      "source": [
        "os.getcwd()"
      ]
    },
    {
      "cell_type": "code",
      "execution_count": 21,
      "metadata": {
        "id": "FvlrxCdTc55r"
      },
      "outputs": [
        {
          "data": {
            "text/html": [
              "<div>\n",
              "<style scoped>\n",
              "    .dataframe tbody tr th:only-of-type {\n",
              "        vertical-align: middle;\n",
              "    }\n",
              "\n",
              "    .dataframe tbody tr th {\n",
              "        vertical-align: top;\n",
              "    }\n",
              "\n",
              "    .dataframe thead th {\n",
              "        text-align: right;\n",
              "    }\n",
              "</style>\n",
              "<table border=\"1\" class=\"dataframe\">\n",
              "  <thead>\n",
              "    <tr style=\"text-align: right;\">\n",
              "      <th></th>\n",
              "      <th>Date</th>\n",
              "      <th>AAPL</th>\n",
              "      <th>BA</th>\n",
              "      <th>T</th>\n",
              "      <th>MGM</th>\n",
              "      <th>AMZN</th>\n",
              "      <th>IBM</th>\n",
              "      <th>TSLA</th>\n",
              "      <th>GOOG</th>\n",
              "      <th>sp500</th>\n",
              "    </tr>\n",
              "  </thead>\n",
              "  <tbody>\n",
              "    <tr>\n",
              "      <th>0</th>\n",
              "      <td>2012-01-12</td>\n",
              "      <td>60.198570</td>\n",
              "      <td>75.510002</td>\n",
              "      <td>30.120001</td>\n",
              "      <td>12.130000</td>\n",
              "      <td>175.929993</td>\n",
              "      <td>180.550003</td>\n",
              "      <td>28.250000</td>\n",
              "      <td>313.644379</td>\n",
              "      <td>1295.500000</td>\n",
              "    </tr>\n",
              "    <tr>\n",
              "      <th>1</th>\n",
              "      <td>2012-01-13</td>\n",
              "      <td>59.972858</td>\n",
              "      <td>74.599998</td>\n",
              "      <td>30.070000</td>\n",
              "      <td>12.350000</td>\n",
              "      <td>178.419998</td>\n",
              "      <td>179.160004</td>\n",
              "      <td>22.790001</td>\n",
              "      <td>311.328064</td>\n",
              "      <td>1289.089966</td>\n",
              "    </tr>\n",
              "    <tr>\n",
              "      <th>2</th>\n",
              "      <td>2012-01-17</td>\n",
              "      <td>60.671429</td>\n",
              "      <td>75.239998</td>\n",
              "      <td>30.250000</td>\n",
              "      <td>12.250000</td>\n",
              "      <td>181.660004</td>\n",
              "      <td>180.000000</td>\n",
              "      <td>26.600000</td>\n",
              "      <td>313.116364</td>\n",
              "      <td>1293.670044</td>\n",
              "    </tr>\n",
              "    <tr>\n",
              "      <th>3</th>\n",
              "      <td>2012-01-18</td>\n",
              "      <td>61.301430</td>\n",
              "      <td>75.059998</td>\n",
              "      <td>30.330000</td>\n",
              "      <td>12.730000</td>\n",
              "      <td>189.440002</td>\n",
              "      <td>181.070007</td>\n",
              "      <td>26.809999</td>\n",
              "      <td>315.273285</td>\n",
              "      <td>1308.040039</td>\n",
              "    </tr>\n",
              "    <tr>\n",
              "      <th>4</th>\n",
              "      <td>2012-01-19</td>\n",
              "      <td>61.107143</td>\n",
              "      <td>75.559998</td>\n",
              "      <td>30.420000</td>\n",
              "      <td>12.800000</td>\n",
              "      <td>194.449997</td>\n",
              "      <td>180.520004</td>\n",
              "      <td>26.760000</td>\n",
              "      <td>318.590851</td>\n",
              "      <td>1314.500000</td>\n",
              "    </tr>\n",
              "    <tr>\n",
              "      <th>...</th>\n",
              "      <td>...</td>\n",
              "      <td>...</td>\n",
              "      <td>...</td>\n",
              "      <td>...</td>\n",
              "      <td>...</td>\n",
              "      <td>...</td>\n",
              "      <td>...</td>\n",
              "      <td>...</td>\n",
              "      <td>...</td>\n",
              "      <td>...</td>\n",
              "    </tr>\n",
              "    <tr>\n",
              "      <th>2154</th>\n",
              "      <td>2020-08-05</td>\n",
              "      <td>440.250000</td>\n",
              "      <td>174.279999</td>\n",
              "      <td>29.850000</td>\n",
              "      <td>16.719999</td>\n",
              "      <td>3205.030029</td>\n",
              "      <td>125.449997</td>\n",
              "      <td>1485.020020</td>\n",
              "      <td>1473.609985</td>\n",
              "      <td>3327.770020</td>\n",
              "    </tr>\n",
              "    <tr>\n",
              "      <th>2155</th>\n",
              "      <td>2020-08-06</td>\n",
              "      <td>455.609985</td>\n",
              "      <td>172.199997</td>\n",
              "      <td>29.840000</td>\n",
              "      <td>18.459999</td>\n",
              "      <td>3225.000000</td>\n",
              "      <td>126.120003</td>\n",
              "      <td>1489.579956</td>\n",
              "      <td>1500.099976</td>\n",
              "      <td>3349.159912</td>\n",
              "    </tr>\n",
              "    <tr>\n",
              "      <th>2156</th>\n",
              "      <td>2020-08-07</td>\n",
              "      <td>444.450012</td>\n",
              "      <td>170.020004</td>\n",
              "      <td>30.020000</td>\n",
              "      <td>19.030001</td>\n",
              "      <td>3167.459961</td>\n",
              "      <td>124.959999</td>\n",
              "      <td>1452.709961</td>\n",
              "      <td>1494.489990</td>\n",
              "      <td>3351.280029</td>\n",
              "    </tr>\n",
              "    <tr>\n",
              "      <th>2157</th>\n",
              "      <td>2020-08-10</td>\n",
              "      <td>450.910004</td>\n",
              "      <td>179.410004</td>\n",
              "      <td>30.200001</td>\n",
              "      <td>21.650000</td>\n",
              "      <td>3148.159912</td>\n",
              "      <td>127.110001</td>\n",
              "      <td>1418.569946</td>\n",
              "      <td>1496.099976</td>\n",
              "      <td>3360.469971</td>\n",
              "    </tr>\n",
              "    <tr>\n",
              "      <th>2158</th>\n",
              "      <td>2020-08-11</td>\n",
              "      <td>437.500000</td>\n",
              "      <td>180.130005</td>\n",
              "      <td>30.200001</td>\n",
              "      <td>21.500000</td>\n",
              "      <td>3080.669922</td>\n",
              "      <td>126.750000</td>\n",
              "      <td>1374.390015</td>\n",
              "      <td>1480.319946</td>\n",
              "      <td>3333.689941</td>\n",
              "    </tr>\n",
              "  </tbody>\n",
              "</table>\n",
              "<p>2159 rows × 10 columns</p>\n",
              "</div>"
            ],
            "text/plain": [
              "            Date        AAPL          BA          T        MGM         AMZN  \\\n",
              "0     2012-01-12   60.198570   75.510002  30.120001  12.130000   175.929993   \n",
              "1     2012-01-13   59.972858   74.599998  30.070000  12.350000   178.419998   \n",
              "2     2012-01-17   60.671429   75.239998  30.250000  12.250000   181.660004   \n",
              "3     2012-01-18   61.301430   75.059998  30.330000  12.730000   189.440002   \n",
              "4     2012-01-19   61.107143   75.559998  30.420000  12.800000   194.449997   \n",
              "...          ...         ...         ...        ...        ...          ...   \n",
              "2154  2020-08-05  440.250000  174.279999  29.850000  16.719999  3205.030029   \n",
              "2155  2020-08-06  455.609985  172.199997  29.840000  18.459999  3225.000000   \n",
              "2156  2020-08-07  444.450012  170.020004  30.020000  19.030001  3167.459961   \n",
              "2157  2020-08-10  450.910004  179.410004  30.200001  21.650000  3148.159912   \n",
              "2158  2020-08-11  437.500000  180.130005  30.200001  21.500000  3080.669922   \n",
              "\n",
              "             IBM         TSLA         GOOG        sp500  \n",
              "0     180.550003    28.250000   313.644379  1295.500000  \n",
              "1     179.160004    22.790001   311.328064  1289.089966  \n",
              "2     180.000000    26.600000   313.116364  1293.670044  \n",
              "3     181.070007    26.809999   315.273285  1308.040039  \n",
              "4     180.520004    26.760000   318.590851  1314.500000  \n",
              "...          ...          ...          ...          ...  \n",
              "2154  125.449997  1485.020020  1473.609985  3327.770020  \n",
              "2155  126.120003  1489.579956  1500.099976  3349.159912  \n",
              "2156  124.959999  1452.709961  1494.489990  3351.280029  \n",
              "2157  127.110001  1418.569946  1496.099976  3360.469971  \n",
              "2158  126.750000  1374.390015  1480.319946  3333.689941  \n",
              "\n",
              "[2159 rows x 10 columns]"
            ]
          },
          "execution_count": 21,
          "metadata": {},
          "output_type": "execute_result"
        }
      ],
      "source": [
        "# Read the stock prices data using pandas\n",
        "\n",
        "stockdf =  pd.read_csv('stocks.csv')\n",
        "stockdf"
      ]
    },
    {
      "cell_type": "code",
      "execution_count": 29,
      "metadata": {
        "id": "faUG290aLAcq"
      },
      "outputs": [
        {
          "data": {
            "text/plain": [
              "<matplotlib.legend.Legend at 0x26f6a081160>"
            ]
          },
          "execution_count": 29,
          "metadata": {},
          "output_type": "execute_result"
        },
        {
          "data": {
            "image/png": "[encoded data removed]",
            "text/plain": [
              "<Figure size 640x480 with 1 Axes>"
            ]
          },
          "metadata": {},
          "output_type": "display_data"
        }
      ],
      "source": [
        "stockdf.plot(x = 'Date', y = 'AAPL', label= 'AAPL Stock Prices', linewidth = 3)\n",
        "plt.ylabel('Price')\n",
        "plt.title('First plotting exercise')\n",
        "plt.legend(loc = 'upper center')\n"
      ]
    },
    {
      "cell_type": "code",
      "execution_count": null,
      "metadata": {
        "id": "yzw1v4zAfdPe"
      },
      "outputs": [],
      "source": []
    },
    {
      "cell_type": "markdown",
      "metadata": {
        "id": "Y0xttudVvOVe"
      },
      "source": [
        "**MINI CHALLLENGE #1:**\n",
        "- **Plot similar kind of graph for the S&P500**\n",
        "- **Change the line color to red**\n"
      ]
    },
    {
      "cell_type": "code",
      "execution_count": 31,
      "metadata": {
        "id": "PGq_ZTEUv6u9"
      },
      "outputs": [
        {
          "data": {
            "text/plain": [
              "<matplotlib.legend.Legend at 0x26f6a13db80>"
            ]
          },
          "execution_count": 31,
          "metadata": {},
          "output_type": "execute_result"
        },
        {
          "data": {
            "image/png": "[encoded data removed]",
            "text/plain": [
              "<Figure size 640x480 with 1 Axes>"
            ]
          },
          "metadata": {},
          "output_type": "display_data"
        }
      ],
      "source": [
        "stockdf.plot(x = 'Date', y = 'sp500', label= 'S&P500 Stock Prices', linewidth = 3, color = 'red')\n",
        "plt.ylabel('Price')\n",
        "plt.title('First plotting exercise')\n",
        "plt.legend(loc = 'upper center')"
      ]
    },
    {
      "cell_type": "markdown",
      "metadata": {
        "id": "Zt75d5cadpZI"
      },
      "source": [
        "# 2. SCATTERPLOT "
      ]
    },
    {
      "cell_type": "code",
      "execution_count": 6,
      "metadata": {
        "id": "zW1BYqO9nQ2r"
      },
      "outputs": [],
      "source": [
        "# Read daily return data using pandas\n"
      ]
    },
    {
      "cell_type": "code",
      "execution_count": null,
      "metadata": {
        "id": "mynyAlrOdMb3"
      },
      "outputs": [],
      "source": [
        "\n"
      ]
    },
    {
      "cell_type": "markdown",
      "metadata": {
        "id": "LhOCJsINv7kx"
      },
      "source": [
        "**MINI CHALLLENGE #2:**\n",
        "- **Plot similar kind of graph for GOOG and sp500**\n"
      ]
    },
    {
      "cell_type": "code",
      "execution_count": null,
      "metadata": {
        "id": "MhBUfcMvwiKY"
      },
      "outputs": [],
      "source": []
    },
    {
      "cell_type": "markdown",
      "metadata": {
        "id": "b-NkBddLe3IK"
      },
      "source": [
        "# 3. PIE CHART"
      ]
    },
    {
      "cell_type": "code",
      "execution_count": null,
      "metadata": {
        "id": "Hj7erO-_e2ph"
      },
      "outputs": [],
      "source": []
    },
    {
      "cell_type": "markdown",
      "metadata": {
        "id": "pd-IMixVwfH0"
      },
      "source": [
        "**MINI CHALLENGE #3:**\n",
        "- **Plot the pie chart for the same stocks assuming equal allocation**\n",
        "- **Explode Amazon and Google slices**\n"
      ]
    },
    {
      "cell_type": "code",
      "execution_count": null,
      "metadata": {
        "id": "3t4uDR6ixE3x"
      },
      "outputs": [],
      "source": []
    },
    {
      "cell_type": "markdown",
      "metadata": {
        "id": "wmjT_xMffg-X"
      },
      "source": [
        "# 4. HISTOGRAMS"
      ]
    },
    {
      "cell_type": "code",
      "execution_count": 7,
      "metadata": {
        "id": "NH2akC9gfkXZ"
      },
      "outputs": [],
      "source": [
        "# A histogram represents data using bars of various heights. \n",
        "# Each bar groups numbers into specific ranges. \n",
        "# Taller bars show that more data falls within that specific range.\n",
        "\n"
      ]
    },
    {
      "cell_type": "code",
      "execution_count": null,
      "metadata": {
        "id": "mw-lwGlCt8vg"
      },
      "outputs": [],
      "source": []
    },
    {
      "cell_type": "code",
      "execution_count": null,
      "metadata": {
        "id": "XLa5MPTAt8y6"
      },
      "outputs": [],
      "source": []
    },
    {
      "cell_type": "code",
      "execution_count": null,
      "metadata": {
        "id": "TzmnZxOwuMwN"
      },
      "outputs": [],
      "source": []
    },
    {
      "cell_type": "code",
      "execution_count": null,
      "metadata": {
        "id": "rwwXuFGsuPgR"
      },
      "outputs": [],
      "source": []
    },
    {
      "cell_type": "code",
      "execution_count": null,
      "metadata": {
        "id": "Mz3hDZcJuPi9"
      },
      "outputs": [],
      "source": []
    },
    {
      "cell_type": "markdown",
      "metadata": {
        "id": "KbUO6G-WxSWX"
      },
      "source": [
        "**MINI CHALLLENGE #4:**\n",
        "- **Plot the histogram for GOOG returns using 30 bins**\n"
      ]
    },
    {
      "cell_type": "code",
      "execution_count": null,
      "metadata": {
        "id": "Q5ZC0deKyAHy"
      },
      "outputs": [],
      "source": []
    },
    {
      "cell_type": "markdown",
      "metadata": {
        "id": "BTQLC7N3hXFP"
      },
      "source": [
        "# 5. MULTIPLE PLOTS"
      ]
    },
    {
      "cell_type": "code",
      "execution_count": null,
      "metadata": {
        "id": "GCnCE99wNCQ4"
      },
      "outputs": [],
      "source": []
    },
    {
      "cell_type": "markdown",
      "metadata": {
        "id": "_abD6J9HxT3F"
      },
      "source": [
        "**MINI CHALLLENGE #5:**\n",
        "- **Plot a similar graph containing prices of AAPL, sp500 and GOOG**\n",
        "- **Add legend indicating S&P500, AAPL and GOOG**\n",
        "- **Place the legend in the \"upper center\" location** \n"
      ]
    },
    {
      "cell_type": "code",
      "execution_count": null,
      "metadata": {
        "id": "txAd6ldiacDS"
      },
      "outputs": [],
      "source": []
    },
    {
      "cell_type": "markdown",
      "metadata": {
        "id": "LMec3MtVhj7U"
      },
      "source": [
        "# 6. SUBPLOTS"
      ]
    },
    {
      "cell_type": "code",
      "execution_count": null,
      "metadata": {
        "id": "x54BNHlshgp8"
      },
      "outputs": [],
      "source": [
        "\n",
        "\n"
      ]
    },
    {
      "cell_type": "code",
      "execution_count": null,
      "metadata": {
        "id": "Iz3yKDybhoXV"
      },
      "outputs": [],
      "source": []
    },
    {
      "cell_type": "markdown",
      "metadata": {
        "id": "9ikBNbK8xVdp"
      },
      "source": [
        "**MINI CHALLLENGE #6:**\n",
        "- **Create subplots like above for GOOG, AAPL and sp500**\n"
      ]
    },
    {
      "cell_type": "code",
      "execution_count": null,
      "metadata": {
        "id": "0_NHeonay6Jr"
      },
      "outputs": [],
      "source": [
        "\n"
      ]
    },
    {
      "cell_type": "markdown",
      "metadata": {
        "id": "0DkuOB6jje-T"
      },
      "source": [
        "# 7. 3D PLOTS"
      ]
    },
    {
      "cell_type": "code",
      "execution_count": 8,
      "metadata": {
        "id": "uk9JlBKYhvOG"
      },
      "outputs": [],
      "source": [
        "# Toolkits are collections of application-specific functions that extend Matplotlib.\n",
        "# mpl_toolkits.mplot3d provides tools for basic 3D plotting.\n",
        "# https://matplotlib.org/mpl_toolkits/index.html\n",
        "\n"
      ]
    },
    {
      "cell_type": "markdown",
      "metadata": {
        "id": "btSvXnR6xWtl"
      },
      "source": [
        "**MINI CHALLLENGE #7:**\n",
        "- **Create a 3D plot with daily return values of sp500, GOOG and AAPL**\n"
      ]
    },
    {
      "cell_type": "code",
      "execution_count": null,
      "metadata": {
        "id": "v-pZxhASz1w1"
      },
      "outputs": [],
      "source": []
    },
    {
      "cell_type": "markdown",
      "metadata": {
        "id": "3ixh-5_Rjy-i"
      },
      "source": [
        "# 8. BOXPLOTS"
      ]
    },
    {
      "cell_type": "code",
      "execution_count": 9,
      "metadata": {
        "id": "OT7COwptjknl"
      },
      "outputs": [],
      "source": [
        "# numpy.random.normal() takes three arguments: mean, standard deviation of the normal distribution, and number of values desired.\n",
        "# Great resource: https://stackoverflow.com/questions/17725927/boxplots-in-matplotlib-markers-and-outliers\n",
        "\n"
      ]
    },
    {
      "cell_type": "markdown",
      "metadata": {
        "id": "J6HPiO2ITXZ1"
      },
      "source": [
        "**MINI CHALLENGE #8:**\n",
        "- **Plot the box plot for  a new dataset data_5 that is normally distributed with an average of 800 and standard deviation = 100**"
      ]
    },
    {
      "cell_type": "code",
      "execution_count": null,
      "metadata": {
        "id": "kxw_XWTcWk88"
      },
      "outputs": [],
      "source": []
    },
    {
      "cell_type": "markdown",
      "metadata": {
        "id": "-eqad_xGb8BS"
      },
      "source": [
        "# EXCELLENT JOB!"
      ]
    },
    {
      "cell_type": "markdown",
      "metadata": {
        "id": "VMJPmhSavkhL"
      },
      "source": [
        "# MINI CHALLENGES SOLUTIONS"
      ]
    },
    {
      "cell_type": "markdown",
      "metadata": {
        "id": "c-q8_6jVvmiJ"
      },
      "source": [
        "**MINI CHALLLENGE #1 SOLUTIONS:**\n",
        "- **Plot similar kind of graph for sp500**\n",
        "- **Change the color line to red**\n"
      ]
    },
    {
      "cell_type": "code",
      "execution_count": 10,
      "metadata": {
        "id": "82FcxfJvLrMu"
      },
      "outputs": [
        {
          "ename": "NameError",
          "evalue": "name 'stock_df' is not defined",
          "output_type": "error",
          "traceback": [
            "\u001b[1;31m---------------------------------------------------------------------------\u001b[0m",
            "\u001b[1;31mNameError\u001b[0m                                 Traceback (most recent call last)",
            "Cell \u001b[1;32mIn [10], line 1\u001b[0m\n\u001b[1;32m----> 1\u001b[0m stock_df\u001b[39m.\u001b[39mplot(x \u001b[39m=\u001b[39m \u001b[39m'\u001b[39m\u001b[39mDate\u001b[39m\u001b[39m'\u001b[39m, y \u001b[39m=\u001b[39m \u001b[39m'\u001b[39m\u001b[39msp500\u001b[39m\u001b[39m'\u001b[39m, label \u001b[39m=\u001b[39m \u001b[39m'\u001b[39m\u001b[39mP500\u001b[39m\u001b[39m'\u001b[39m, color \u001b[39m=\u001b[39m \u001b[39m'\u001b[39m\u001b[39mr\u001b[39m\u001b[39m'\u001b[39m);\n\u001b[0;32m      2\u001b[0m plt\u001b[39m.\u001b[39mylabel(\u001b[39m'\u001b[39m\u001b[39mPrice\u001b[39m\u001b[39m'\u001b[39m)\n\u001b[0;32m      3\u001b[0m plt\u001b[39m.\u001b[39mtitle(\u001b[39m'\u001b[39m\u001b[39mMy first plotting exercise!\u001b[39m\u001b[39m'\u001b[39m)\n",
            "\u001b[1;31mNameError\u001b[0m: name 'stock_df' is not defined"
          ]
        }
      ],
      "source": [
        "stock_df.plot(x = 'Date', y = 'sp500', label = 'P500', color = 'r');\n",
        "plt.ylabel('Price')\n",
        "plt.title('My first plotting exercise!')\n",
        "plt.legend(loc=\"upper left\")\n",
        "plt.grid()\n"
      ]
    },
    {
      "cell_type": "markdown",
      "metadata": {
        "id": "Q-9XuR_DwDkR"
      },
      "source": [
        "**MINI CHALLLENGE #2 SOLUTIONS:**\n",
        "- **Plot similar kind of graph for GOOG and sp500**\n"
      ]
    },
    {
      "cell_type": "code",
      "execution_count": null,
      "metadata": {
        "id": "dZVx8PHswHo1"
      },
      "outputs": [],
      "source": [
        "X = daily_return_df['GOOG']\n",
        "Y = daily_return_df['sp500']\n",
        "\n",
        "plt.scatter(X, Y);"
      ]
    },
    {
      "cell_type": "markdown",
      "metadata": {
        "id": "_HBnzrQFxNNS"
      },
      "source": [
        "**MINI CHALLLENGE #3 SOLUTIONS:**\n",
        "- **Plot the pie chart for the same stocks assuming equal allocation**\n",
        "- **Explode Amazon and Google slices**\n"
      ]
    },
    {
      "cell_type": "code",
      "execution_count": null,
      "metadata": {
        "id": "I4BdeWKixQYH"
      },
      "outputs": [],
      "source": [
        "values = [20, 20, 20, 20, 20]\n",
        "colors = ['g', 'r', 'y', 'b', 'm']\n",
        "explode = [0, 0.2, 0, 0, 0.2]\n",
        "labels = ['AAPL', 'GOOG', 'T', 'TSLA  ', 'AMZN']\n",
        "plt.pie(values, colors = colors, labels = labels, explode = explode)\n",
        "plt.title('STOCK PORTFOLIO')\n",
        "plt.show()"
      ]
    },
    {
      "cell_type": "markdown",
      "metadata": {
        "id": "5FDbqqY2x4uy"
      },
      "source": [
        "**MINI CHALLLENGE #4 SOLUTIONS:**\n",
        "- **Plot the histogram for GOOG returns with 30 bins**\n"
      ]
    },
    {
      "cell_type": "code",
      "execution_count": null,
      "metadata": {
        "id": "hPBQ3Cf7xiJN"
      },
      "outputs": [],
      "source": [
        "num_bins = 30\n",
        "plt.hist(daily_return_df['GOOG'], num_bins, facecolor = 'blue');\n",
        "plt.grid()"
      ]
    },
    {
      "cell_type": "markdown",
      "metadata": {
        "id": "X8cI77RKyTfj"
      },
      "source": [
        "**MINI CHALLLENGE #5 SOLUTIONS:**\n",
        "- **Plot a similar graph containing prices of AAPL, sp500 and GOOG**\n",
        "- **Add legend indicating S&P500, AAPL and GOOG**\n",
        "- **Place the legend in the \"upper center\" location** \n"
      ]
    },
    {
      "cell_type": "code",
      "execution_count": null,
      "metadata": {
        "id": "U3CZvXYzOVvs"
      },
      "outputs": [],
      "source": [
        "stock_df.plot(x = 'Date', y = ['AAPL', 'sp500', 'GOOG'], linewidth = 3)\n",
        "plt.ylabel('Price')\n",
        "plt.title('Stock Prices')\n",
        "plt.legend(loc=\"upper center\")\n",
        "plt.grid()"
      ]
    },
    {
      "cell_type": "markdown",
      "metadata": {
        "id": "wgHTirG0y7eO"
      },
      "source": [
        "**MINI CHALLLENGE #6 SOLUTIONS:**\n",
        "- **Create subplots like above for GOOG, AAPL and sp500**\n"
      ]
    },
    {
      "cell_type": "code",
      "execution_count": null,
      "metadata": {
        "id": "gp2iINNnyhCB"
      },
      "outputs": [],
      "source": [
        "plt.figure(figsize = (7,7))\n",
        "plt.subplot(3, 1, 1)\n",
        "plt.plot(stock_df.index, stock_df['AAPL'], 'r--');\n",
        "plt.grid()\n",
        "plt.legend(['APPLE price'])\n",
        "\n",
        "plt.subplot(3, 1, 2)\n",
        "plt.plot(stock_df.index, stock_df['sp500'], 'b.');\n",
        "plt.grid()\n",
        "plt.legend(['S&P500 price'])\n",
        "\n",
        "\n",
        "plt.subplot(3, 1, 3)\n",
        "plt.plot(stock_df.index, stock_df['GOOG'], 'y--');\n",
        "plt.grid()\n",
        "plt.legend(['GOOGLE price'])\n"
      ]
    },
    {
      "cell_type": "markdown",
      "metadata": {
        "id": "RhqfRdLFzxop"
      },
      "source": [
        "**MINI CHALLLENGE #7 SOLUTIONS:**\n",
        "- **Create a 3D plot with daily return values of sp500, GOOG and AAPL**\n"
      ]
    },
    {
      "cell_type": "code",
      "execution_count": null,
      "metadata": {
        "id": "7dvOghOKzM46"
      },
      "outputs": [],
      "source": [
        "fig = plt.figure(figsize=(6, 6))\n",
        "ax = fig.add_subplot(111, projection = '3d')\n",
        "\n",
        "x = daily_return_df['AAPL'].tolist()\n",
        "y = daily_return_df['sp500'].tolist()\n",
        "z = daily_return_df['GOOG'].tolist()\n",
        "\n",
        "ax.scatter(x, y, z, c = 'r', marker = 'o')\n",
        "\n",
        "ax.set_xlabel('X Label')\n",
        "ax.set_ylabel('Y Label')\n",
        "ax.set_zlabel('Z Label')"
      ]
    },
    {
      "cell_type": "markdown",
      "metadata": {
        "id": "MvsBHW9cWgDP"
      },
      "source": [
        "**MINI CHALLENGE #8 SOLUTIONS:**\n",
        "- **Plot the box plot for  a new dataset that is normally distributed with an average of 800 and standard deviation = 100**"
      ]
    },
    {
      "cell_type": "code",
      "execution_count": null,
      "metadata": {
        "id": "Er8aA8DAWgDS"
      },
      "outputs": [],
      "source": [
        "np.random.seed(20)\n",
        "\n",
        "data_1 = np.random.normal(200, 20, 2000)\n",
        "data_2 = np.random.normal(60, 30, 2000)\n",
        "data_3 = np.random.normal(70, 20, 2000)\n",
        "data_4 = np.random.normal(40, 5, 2000)\n",
        "data_5 = np.random.normal(800, 100, 2000)\n",
        "\n",
        "\n",
        "data_all = [data_1, data_2, data_3, data_4, data_5]\n",
        "\n",
        "fig = plt.figure(figsize = (10, 7))\n",
        "ax = fig.add_subplot(111)\n",
        "bp = ax.boxplot(data_all)"
      ]
    }
  ],
  "metadata": {
    "colab": {
      "collapsed_sections": [],
      "provenance": []
    },
    "kernelspec": {
      "display_name": "Python 3.9.7 ('spvenv': venv)",
      "language": "python",
      "name": "python3"
    },
    "language_info": {
      "codemirror_mode": {
        "name": "ipython",
        "version": 3
      },
      "file_extension": ".py",
      "mimetype": "text/x-python",
      "name": "python",
      "nbconvert_exporter": "python",
      "pygments_lexer": "ipython3",
      "version": "3.9.7"
    },
    "vscode": {
      "interpreter": {
        "hash": "d11cfe9d244b7ba2c13cd54d277544da802b00d4526d36cf0e3bcca1614757b8"
      }
    }
  },
  "nbformat": 4,
  "nbformat_minor": 0
}
