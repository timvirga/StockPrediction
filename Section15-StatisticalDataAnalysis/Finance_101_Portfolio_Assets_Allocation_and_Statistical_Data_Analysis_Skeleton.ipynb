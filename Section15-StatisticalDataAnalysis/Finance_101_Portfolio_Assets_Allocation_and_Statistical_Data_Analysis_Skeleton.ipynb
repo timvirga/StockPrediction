{
  "cells": [
    {
      "cell_type": "markdown",
      "metadata": {
        "id": "ltpfSDVCRbRX"
      },
      "source": [
        "#TASK #1: PROJECT OVERVIEW AND ASSET TYPES"
      ]
    },
    {
      "cell_type": "markdown",
      "metadata": {
        "id": "sxflQbPmX-Pm"
      },
      "source": [
        "![alt text](https://drive.google.com/uc?id=1TEVVCFWQD8F5mlC7FzD-JM2y54ivYZHT)"
      ]
    },
    {
      "cell_type": "markdown",
      "metadata": {
        "id": "Sm6dYc4lYWXI"
      },
      "source": [
        "![alt text](https://drive.google.com/uc?id=1Z253Wmij7HCEHqPsMdEI56qYqASRrsjn)\n"
      ]
    },
    {
      "cell_type": "markdown",
      "metadata": {
        "id": "J8oYWnAoYWzN"
      },
      "source": [
        "![alt text](https://drive.google.com/uc?id=10XxwtKY2qEiNAdTkqNXKhNFZrWvwwKbN)"
      ]
    },
    {
      "cell_type": "markdown",
      "metadata": {
        "id": "W_YgRmfpYW9d"
      },
      "source": [
        "![alt text](https://drive.google.com/uc?id=1SfBtfOoDigo4ofEvPAwIojqGHpMojL5S)"
      ]
    },
    {
      "cell_type": "markdown",
      "metadata": {
        "id": "uXLoS6qS74qs"
      },
      "source": [
        "Links:\n",
        "- https://www.bankofcanada.ca/rates/interest-rates/canadian-bonds/\n",
        "- https://ca.finance.yahoo.com/quote/AAPL?p=AAPL&.tsrc=fin-tre-srch\n",
        "- https://investor.vanguard.com/etf/profile/performance/voo\n",
        "- https://grow.acorns.com/warren-buffett-index-funds/\n",
        "\n"
      ]
    },
    {
      "cell_type": "markdown",
      "metadata": {
        "id": "_OtNKjlXS5YR"
      },
      "source": [
        "# TASK #2: IMPORT LIBRARIES & DATASETS AND PERFORM DATA VISUALIZATION"
      ]
    },
    {
      "cell_type": "code",
      "execution_count": null,
      "metadata": {
        "id": "4j9CzvYyRjq3"
      },
      "outputs": [],
      "source": [
        "# from google.colab import drive\n",
        "# drive.mount('/content/drive')"
      ]
    },
    {
      "cell_type": "code",
      "execution_count": 2,
      "metadata": {
        "id": "TMxtZdEjRjoc"
      },
      "outputs": [],
      "source": [
        "import pandas as pd\n",
        "import plotly.express as px\n",
        "from copy import copy\n",
        "from scipy import stats\n",
        "import matplotlib.pyplot as plt\n",
        "import numpy as np\n",
        "import plotly.figure_factory as ff\n",
        "import plotly.graph_objects as go\n",
        "import os"
      ]
    },
    {
      "cell_type": "code",
      "execution_count": 4,
      "metadata": {
        "id": "rjnkqEJzRjtC"
      },
      "outputs": [],
      "source": [
        "# Read the stock data file\n",
        "os.getcwd()\n",
        "df = pd.read_csv('stock.csv')"
      ]
    },
    {
      "cell_type": "code",
      "execution_count": 20,
      "metadata": {
        "id": "O-iq0rQVRysa"
      },
      "outputs": [
        {
          "data": {
            "text/html": [
              "<div>\n",
              "<style scoped>\n",
              "    .dataframe tbody tr th:only-of-type {\n",
              "        vertical-align: middle;\n",
              "    }\n",
              "\n",
              "    .dataframe tbody tr th {\n",
              "        vertical-align: top;\n",
              "    }\n",
              "\n",
              "    .dataframe thead th {\n",
              "        text-align: right;\n",
              "    }\n",
              "</style>\n",
              "<table border=\"1\" class=\"dataframe\">\n",
              "  <thead>\n",
              "    <tr style=\"text-align: right;\">\n",
              "      <th></th>\n",
              "      <th>Date</th>\n",
              "      <th>AAPL</th>\n",
              "      <th>BA</th>\n",
              "      <th>T</th>\n",
              "      <th>MGM</th>\n",
              "      <th>AMZN</th>\n",
              "      <th>IBM</th>\n",
              "      <th>TSLA</th>\n",
              "      <th>GOOG</th>\n",
              "      <th>sp500</th>\n",
              "    </tr>\n",
              "  </thead>\n",
              "  <tbody>\n",
              "    <tr>\n",
              "      <th>0</th>\n",
              "      <td>2012-01-12</td>\n",
              "      <td>60.198570</td>\n",
              "      <td>75.510002</td>\n",
              "      <td>30.120001</td>\n",
              "      <td>12.130000</td>\n",
              "      <td>175.929993</td>\n",
              "      <td>180.550003</td>\n",
              "      <td>28.250000</td>\n",
              "      <td>313.644379</td>\n",
              "      <td>1295.500000</td>\n",
              "    </tr>\n",
              "    <tr>\n",
              "      <th>1</th>\n",
              "      <td>2012-01-13</td>\n",
              "      <td>59.972858</td>\n",
              "      <td>74.599998</td>\n",
              "      <td>30.070000</td>\n",
              "      <td>12.350000</td>\n",
              "      <td>178.419998</td>\n",
              "      <td>179.160004</td>\n",
              "      <td>22.790001</td>\n",
              "      <td>311.328064</td>\n",
              "      <td>1289.089966</td>\n",
              "    </tr>\n",
              "    <tr>\n",
              "      <th>2</th>\n",
              "      <td>2012-01-17</td>\n",
              "      <td>60.671429</td>\n",
              "      <td>75.239998</td>\n",
              "      <td>30.250000</td>\n",
              "      <td>12.250000</td>\n",
              "      <td>181.660004</td>\n",
              "      <td>180.000000</td>\n",
              "      <td>26.600000</td>\n",
              "      <td>313.116364</td>\n",
              "      <td>1293.670044</td>\n",
              "    </tr>\n",
              "    <tr>\n",
              "      <th>3</th>\n",
              "      <td>2012-01-18</td>\n",
              "      <td>61.301430</td>\n",
              "      <td>75.059998</td>\n",
              "      <td>30.330000</td>\n",
              "      <td>12.730000</td>\n",
              "      <td>189.440002</td>\n",
              "      <td>181.070007</td>\n",
              "      <td>26.809999</td>\n",
              "      <td>315.273285</td>\n",
              "      <td>1308.040039</td>\n",
              "    </tr>\n",
              "    <tr>\n",
              "      <th>4</th>\n",
              "      <td>2012-01-19</td>\n",
              "      <td>61.107143</td>\n",
              "      <td>75.559998</td>\n",
              "      <td>30.420000</td>\n",
              "      <td>12.800000</td>\n",
              "      <td>194.449997</td>\n",
              "      <td>180.520004</td>\n",
              "      <td>26.760000</td>\n",
              "      <td>318.590851</td>\n",
              "      <td>1314.500000</td>\n",
              "    </tr>\n",
              "    <tr>\n",
              "      <th>...</th>\n",
              "      <td>...</td>\n",
              "      <td>...</td>\n",
              "      <td>...</td>\n",
              "      <td>...</td>\n",
              "      <td>...</td>\n",
              "      <td>...</td>\n",
              "      <td>...</td>\n",
              "      <td>...</td>\n",
              "      <td>...</td>\n",
              "      <td>...</td>\n",
              "    </tr>\n",
              "    <tr>\n",
              "      <th>2154</th>\n",
              "      <td>2020-08-05</td>\n",
              "      <td>440.250000</td>\n",
              "      <td>174.279999</td>\n",
              "      <td>29.850000</td>\n",
              "      <td>16.719999</td>\n",
              "      <td>3205.030029</td>\n",
              "      <td>125.449997</td>\n",
              "      <td>1485.020020</td>\n",
              "      <td>1473.609985</td>\n",
              "      <td>3327.770020</td>\n",
              "    </tr>\n",
              "    <tr>\n",
              "      <th>2155</th>\n",
              "      <td>2020-08-06</td>\n",
              "      <td>455.609985</td>\n",
              "      <td>172.199997</td>\n",
              "      <td>29.840000</td>\n",
              "      <td>18.459999</td>\n",
              "      <td>3225.000000</td>\n",
              "      <td>126.120003</td>\n",
              "      <td>1489.579956</td>\n",
              "      <td>1500.099976</td>\n",
              "      <td>3349.159912</td>\n",
              "    </tr>\n",
              "    <tr>\n",
              "      <th>2156</th>\n",
              "      <td>2020-08-07</td>\n",
              "      <td>444.450012</td>\n",
              "      <td>170.020004</td>\n",
              "      <td>30.020000</td>\n",
              "      <td>19.030001</td>\n",
              "      <td>3167.459961</td>\n",
              "      <td>124.959999</td>\n",
              "      <td>1452.709961</td>\n",
              "      <td>1494.489990</td>\n",
              "      <td>3351.280029</td>\n",
              "    </tr>\n",
              "    <tr>\n",
              "      <th>2157</th>\n",
              "      <td>2020-08-10</td>\n",
              "      <td>450.910004</td>\n",
              "      <td>179.410004</td>\n",
              "      <td>30.200001</td>\n",
              "      <td>21.650000</td>\n",
              "      <td>3148.159912</td>\n",
              "      <td>127.110001</td>\n",
              "      <td>1418.569946</td>\n",
              "      <td>1496.099976</td>\n",
              "      <td>3360.469971</td>\n",
              "    </tr>\n",
              "    <tr>\n",
              "      <th>2158</th>\n",
              "      <td>2020-08-11</td>\n",
              "      <td>437.500000</td>\n",
              "      <td>180.130005</td>\n",
              "      <td>30.200001</td>\n",
              "      <td>21.500000</td>\n",
              "      <td>3080.669922</td>\n",
              "      <td>126.750000</td>\n",
              "      <td>1374.390015</td>\n",
              "      <td>1480.319946</td>\n",
              "      <td>3333.689941</td>\n",
              "    </tr>\n",
              "  </tbody>\n",
              "</table>\n",
              "<p>2159 rows × 10 columns</p>\n",
              "</div>"
            ],
            "text/plain": [
              "            Date        AAPL          BA          T        MGM         AMZN  \\\n",
              "0     2012-01-12   60.198570   75.510002  30.120001  12.130000   175.929993   \n",
              "1     2012-01-13   59.972858   74.599998  30.070000  12.350000   178.419998   \n",
              "2     2012-01-17   60.671429   75.239998  30.250000  12.250000   181.660004   \n",
              "3     2012-01-18   61.301430   75.059998  30.330000  12.730000   189.440002   \n",
              "4     2012-01-19   61.107143   75.559998  30.420000  12.800000   194.449997   \n",
              "...          ...         ...         ...        ...        ...          ...   \n",
              "2154  2020-08-05  440.250000  174.279999  29.850000  16.719999  3205.030029   \n",
              "2155  2020-08-06  455.609985  172.199997  29.840000  18.459999  3225.000000   \n",
              "2156  2020-08-07  444.450012  170.020004  30.020000  19.030001  3167.459961   \n",
              "2157  2020-08-10  450.910004  179.410004  30.200001  21.650000  3148.159912   \n",
              "2158  2020-08-11  437.500000  180.130005  30.200001  21.500000  3080.669922   \n",
              "\n",
              "             IBM         TSLA         GOOG        sp500  \n",
              "0     180.550003    28.250000   313.644379  1295.500000  \n",
              "1     179.160004    22.790001   311.328064  1289.089966  \n",
              "2     180.000000    26.600000   313.116364  1293.670044  \n",
              "3     181.070007    26.809999   315.273285  1308.040039  \n",
              "4     180.520004    26.760000   318.590851  1314.500000  \n",
              "...          ...          ...          ...          ...  \n",
              "2154  125.449997  1485.020020  1473.609985  3327.770020  \n",
              "2155  126.120003  1489.579956  1500.099976  3349.159912  \n",
              "2156  124.959999  1452.709961  1494.489990  3351.280029  \n",
              "2157  127.110001  1418.569946  1496.099976  3360.469971  \n",
              "2158  126.750000  1374.390015  1480.319946  3333.689941  \n",
              "\n",
              "[2159 rows x 10 columns]"
            ]
          },
          "execution_count": 20,
          "metadata": {},
          "output_type": "execute_result"
        }
      ],
      "source": [
        "# Sort the data based on Date\n",
        "stocks_df = df.sort_values(by=['Date'])\n",
        "stocks_df"
      ]
    },
    {
      "cell_type": "markdown",
      "metadata": {
        "id": "Y3RoHYBBcR-x"
      },
      "source": [
        "**MINI CHALLENGE #1:** \n",
        "- **Use Plotly express to visualize raw stock data and normalized ones** "
      ]
    },
    {
      "cell_type": "code",
      "execution_count": 24,
      "metadata": {
        "id": "wbF3MU65cTXg"
      },
      "outputs": [],
      "source": [
        "# normalize function \n",
        "\n",
        "def normalize(df):\n",
        "    x = stocks_df.copy()\n",
        "    for i in stocks_df.columns[1:]:\n",
        "        x[i] = x[i] / x[i][0]\n",
        "    return x"
      ]
    },
    {
      "cell_type": "code",
      "execution_count": 25,
      "metadata": {
        "id": "huDamT6YEit8"
      },
      "outputs": [],
      "source": [
        "stocks_df_norm = normalize(stocks_df)"
      ]
    },
    {
      "cell_type": "code",
      "execution_count": 32,
      "metadata": {},
      "outputs": [
        {
          "data": {
            "text/plain": [
              "<AxesSubplot: title={'center': 'Stock Data Visualisation'}, xlabel='Date'>"
            ]
          },
          "execution_count": 32,
          "metadata": {},
          "output_type": "execute_result"
        },
        {
          "data": {
            "image/png": "[encoded data removed]",
            "text/plain": [
              "<Figure size 500x500 with 1 Axes>"
            ]
          },
          "metadata": {},
          "output_type": "display_data"
        }
      ],
      "source": [
        "stocks_df.plot(x = 'Date', figsize=(5,5), linewidth=2, title='Stock Data Visualisation')"
      ]
    },
    {
      "cell_type": "code",
      "execution_count": 33,
      "metadata": {
        "id": "hYF0JHUeEisT"
      },
      "outputs": [
        {
          "data": {
            "image/png": "[encoded data removed]",
            "text/plain": [
              "<Figure size 500x500 with 1 Axes>"
            ]
          },
          "metadata": {},
          "output_type": "display_data"
        }
      ],
      "source": [
        "stocks_df_norm.plot(x = 'Date',figsize=(5,5), linewidth=2, title='Normalized Stock Data visualisation')\n",
        "plt.grid()"
      ]
    },
    {
      "cell_type": "code",
      "execution_count": null,
      "metadata": {
        "id": "14x8-kTVEip7"
      },
      "outputs": [],
      "source": []
    },
    {
      "cell_type": "markdown",
      "metadata": {
        "id": "i3iec4kDdqFh"
      },
      "source": [
        "# TASK #3: UNERSTAND THE CONCEPT OF ASSET ALLOCATION"
      ]
    },
    {
      "cell_type": "markdown",
      "metadata": {
        "id": "I-JZLZnfYWtf"
      },
      "source": [
        "![alt text](https://drive.google.com/uc?id=17SLLaxLeP6vlXH6MltEQMFNbt5u-J6iK)"
      ]
    },
    {
      "cell_type": "markdown",
      "metadata": {
        "id": "W_EpPAcSYWqD"
      },
      "source": [
        "![alt text](https://drive.google.com/uc?id=1qLML-ejBIKR8Bv8aeItfNaJuhq5GzvJ5)"
      ]
    },
    {
      "cell_type": "markdown",
      "metadata": {
        "id": "Uc05TkRjYWnQ"
      },
      "source": [
        "![alt text](https://drive.google.com/uc?id=1iR3WYvU9SYVRqhKwR91x0AsE5sGQtFhz)"
      ]
    },
    {
      "cell_type": "markdown",
      "metadata": {
        "id": "-nvTQjfrfapS"
      },
      "source": [
        "**MINI CHALLENGE #2:**\n",
        "- **What is the common advice that financial advisors generally give to retired seniors when it comes to asset allocations?**"
      ]
    },
    {
      "cell_type": "code",
      "execution_count": null,
      "metadata": {
        "id": "pNFI_hnshyVv"
      },
      "outputs": [],
      "source": []
    },
    {
      "cell_type": "markdown",
      "metadata": {
        "id": "NYaUBZZTcnkP"
      },
      "source": [
        "# TASK #4: PERFORM RANDOM ASSET ALLOCATION AND CALCULATE PORTFOLIO DAILY RETURN"
      ]
    },
    {
      "cell_type": "code",
      "execution_count": null,
      "metadata": {
        "id": "oCeDaFXwPd9y"
      },
      "outputs": [],
      "source": []
    },
    {
      "cell_type": "code",
      "execution_count": null,
      "metadata": {
        "id": "YcAl_cZ8fTwG"
      },
      "outputs": [],
      "source": [
        "\n"
      ]
    },
    {
      "cell_type": "code",
      "execution_count": null,
      "metadata": {
        "id": "F2LHZ6wMCkf6"
      },
      "outputs": [],
      "source": [
        "# Normalize the stock avalues \n"
      ]
    },
    {
      "cell_type": "code",
      "execution_count": null,
      "metadata": {
        "id": "i0-eJzYJREHn"
      },
      "outputs": [],
      "source": []
    },
    {
      "cell_type": "code",
      "execution_count": null,
      "metadata": {
        "id": "5UouSEtdDY_3"
      },
      "outputs": [],
      "source": []
    },
    {
      "cell_type": "code",
      "execution_count": null,
      "metadata": {
        "id": "m9aZjynJDDYA"
      },
      "outputs": [],
      "source": [
        "# Note that enumerate returns the value and a counter as well\n",
        "\n"
      ]
    },
    {
      "cell_type": "code",
      "execution_count": null,
      "metadata": {
        "id": "Ly7b_-PAEccl"
      },
      "outputs": [],
      "source": [
        "# Let's create an additional column that contains the sum of all $ values in the portfolio\n"
      ]
    },
    {
      "cell_type": "code",
      "execution_count": null,
      "metadata": {
        "id": "ESTlNEIqFFyb"
      },
      "outputs": [],
      "source": [
        "# Let's calculate the portfolio daily return \n",
        "# Define a new column in the dataframe and set it to zeros\n",
        "\n",
        "\n"
      ]
    },
    {
      "cell_type": "markdown",
      "metadata": {
        "id": "fRVJOiB7c9ey"
      },
      "source": [
        "**MINI CHALLENGE #3:** \n",
        "- **Try at least 3 another random weights allocation and rerun the code.** \n",
        "- **Compare the final portfolio value on Aug 11th, 2020 to its initial value ($1M) on January 12th, 2012. Do you notice a big difference? Comment on your answer.**"
      ]
    },
    {
      "cell_type": "code",
      "execution_count": null,
      "metadata": {
        "id": "DRlf2k49iBlF"
      },
      "outputs": [],
      "source": []
    },
    {
      "cell_type": "markdown",
      "metadata": {
        "id": "5FYcMzJcGWo-"
      },
      "source": [
        "# TASK #5: PORTFOLIO ALLOCATION - DAILY RETURN/WORTH CALCULATION (FUNCTION)"
      ]
    },
    {
      "cell_type": "code",
      "execution_count": null,
      "metadata": {
        "id": "1UtoXcsdW4H_"
      },
      "outputs": [],
      "source": [
        "# Lets assume we have $1,000,000 to be invested and we will allocate this fund based on the weights of the stocks\n",
        "# We will create a function that takes in the stock prices along with the weights and return:\n",
        "# (1) Daily value of each individual securuty in $ over the specified time period\n",
        "# (2) Overall daily worth of the entire portfolio \n",
        "# (3) Daily return \n",
        "\n",
        "\n",
        "\n",
        "\n",
        "\n"
      ]
    },
    {
      "cell_type": "markdown",
      "metadata": {
        "id": "V9Ouphi3iIyG"
      },
      "source": [
        "**MINI CHALLENGE #4:**\n",
        "- **Call the function and ensure that the results make sense**"
      ]
    },
    {
      "cell_type": "code",
      "execution_count": null,
      "metadata": {
        "id": "XGpuUb1-iiJ_"
      },
      "outputs": [],
      "source": []
    },
    {
      "cell_type": "markdown",
      "metadata": {
        "id": "QaaDNPBKeR3B"
      },
      "source": [
        "# TASK #6: PERFORM PORTFOLIO DATA VISUALIZATION"
      ]
    },
    {
      "cell_type": "code",
      "execution_count": null,
      "metadata": {
        "id": "puoioqEbf-1l"
      },
      "outputs": [],
      "source": [
        "# Plot the portfolio daily return\n"
      ]
    },
    {
      "cell_type": "code",
      "execution_count": null,
      "metadata": {
        "id": "vPqNoj1Eu8Uf"
      },
      "outputs": [],
      "source": [
        "# Plot all stocks (normalized)\n",
        "\n"
      ]
    },
    {
      "cell_type": "code",
      "execution_count": null,
      "metadata": {
        "id": "dvZgEqmrcMSW"
      },
      "outputs": [],
      "source": [
        "# Print out a histogram of daily returns\n"
      ]
    },
    {
      "cell_type": "markdown",
      "metadata": {
        "id": "6Kc7ehObjsMw"
      },
      "source": [
        "**MINI CHALLENGE #5:** \n",
        "- **Plot the portfolio overall daily worth vs. time.**\n",
        "- **Rerun the code with various weights and visualize the final value.** "
      ]
    },
    {
      "cell_type": "code",
      "execution_count": null,
      "metadata": {
        "id": "lqj1T2fpkEOH"
      },
      "outputs": [],
      "source": []
    },
    {
      "cell_type": "markdown",
      "metadata": {
        "id": "L2ONFl4_PCR2"
      },
      "source": [
        "# TASK #7: UNDERSTAND PORTFOLIO STATISTICAL METRICS (CUMMULATIVE RETURN, AVERAGE DAILY RETURN, AND SHARPE RATIO)"
      ]
    },
    {
      "cell_type": "markdown",
      "metadata": {
        "id": "vkWIchSSZZ2j"
      },
      "source": [
        "![alt text](https://drive.google.com/uc?id=1W_MNP2Qldn3ulrvXivOnjQg3NTf3hNCo)"
      ]
    },
    {
      "cell_type": "markdown",
      "metadata": {
        "id": "O9qTQWZWZZ_n"
      },
      "source": [
        "![alt text](https://drive.google.com/uc?id=12e4Zgxv1FNviJYML88G6cTnlte0bts-4)"
      ]
    },
    {
      "cell_type": "markdown",
      "metadata": {
        "id": "-wyQltQIYWkm"
      },
      "source": [
        "![alt text](https://drive.google.com/uc?id=1QQLWpIJ8uXopJrV40YFKb5H-SxnmsRaj)"
      ]
    },
    {
      "cell_type": "markdown",
      "metadata": {
        "id": "-e-K4SPXkPju"
      },
      "source": [
        "# TASK #8: CALCULATE PORTFOLIO STATISTICAL METRICS (CUMMULATIVE RETURN, AVERAGE DAILY RETURN, AND SHARPE RATIO)"
      ]
    },
    {
      "cell_type": "code",
      "execution_count": null,
      "metadata": {
        "id": "441cVMptPzZr"
      },
      "outputs": [],
      "source": []
    },
    {
      "cell_type": "code",
      "execution_count": null,
      "metadata": {
        "id": "Vd6MiyWm6kXm"
      },
      "outputs": [],
      "source": []
    },
    {
      "cell_type": "code",
      "execution_count": null,
      "metadata": {
        "id": "YqPKVo7qP35r"
      },
      "outputs": [],
      "source": [
        "# Cummulative return of the portfolio (Note that we now look for the last net worth of the portfolio compared to it's start value)\n"
      ]
    },
    {
      "cell_type": "code",
      "execution_count": null,
      "metadata": {
        "id": "OQ5XsTjTZgR3"
      },
      "outputs": [],
      "source": [
        "# Calculate the portfolio standard deviation\n"
      ]
    },
    {
      "cell_type": "code",
      "execution_count": null,
      "metadata": {
        "id": "O4z2t-BSZjyl"
      },
      "outputs": [],
      "source": [
        "# Calculate the average daily return \n"
      ]
    },
    {
      "cell_type": "code",
      "execution_count": null,
      "metadata": {
        "id": "BdOQ0kc5ixdY"
      },
      "outputs": [],
      "source": [
        "# Portfolio sharpe ratio\n"
      ]
    },
    {
      "cell_type": "markdown",
      "metadata": {
        "id": "Z-or4p7_kcGF"
      },
      "source": [
        "**MINI CHALLENGE #6:** \n",
        "- **Try at least 3 different random weights allocation, rerun the code and compare sharpe ratios, daily return and cummulative returns.**"
      ]
    },
    {
      "cell_type": "code",
      "execution_count": null,
      "metadata": {
        "id": "VMI7vjo5kX0V"
      },
      "outputs": [],
      "source": []
    },
    {
      "cell_type": "markdown",
      "metadata": {
        "id": "YTqxFEP7xEJl"
      },
      "source": [
        "# **WELL DONE!**"
      ]
    },
    {
      "cell_type": "markdown",
      "metadata": {
        "id": "Y2UYMbaecCcW"
      },
      "source": [
        "# **MINI CHALLENGE SOLUTIONS**"
      ]
    },
    {
      "cell_type": "markdown",
      "metadata": {
        "id": "mj4oaI5va0lF"
      },
      "source": [
        "**MINI CHALLENGE #1 SOLUTION:** \n",
        "- **Use Plotly express to visualize raw stock data and normalized ones** "
      ]
    },
    {
      "cell_type": "code",
      "execution_count": null,
      "metadata": {
        "id": "329hiIB9SUN_"
      },
      "outputs": [],
      "source": [
        "# Function to normalize the prices based on the initial price\n",
        "def normalize(df):\n",
        "  x = df.copy()\n",
        "  for i in x.columns[1:]:\n",
        "    x[i] = x[i]/x[i][0]\n",
        "  return x"
      ]
    },
    {
      "cell_type": "code",
      "execution_count": null,
      "metadata": {
        "id": "0GDAgQaySUQb"
      },
      "outputs": [],
      "source": [
        "# Function to plot interactive plot\n",
        "def interactive_plot(df, title):\n",
        "  fig = px.line(title = title)\n",
        "  for i in df.columns[1:]:\n",
        "    fig.add_scatter(x = df['Date'], y = df[i], name = i)\n",
        "  fig.show()"
      ]
    },
    {
      "cell_type": "code",
      "execution_count": null,
      "metadata": {
        "id": "6RxpH51ISUTS"
      },
      "outputs": [],
      "source": [
        "# Plot interactive chart\n",
        "interactive_plot(stocks_df, 'Prices')"
      ]
    },
    {
      "cell_type": "code",
      "execution_count": null,
      "metadata": {
        "id": "GRc-WGmyTX85"
      },
      "outputs": [],
      "source": [
        "# Plot normalized interactive chart\n",
        "interactive_plot(normalize(stocks_df), 'Normalized Prices')"
      ]
    },
    {
      "cell_type": "markdown",
      "metadata": {
        "id": "OOPqPtcrhpjY"
      },
      "source": [
        "**MINI CHALLENGE #2 SOLUTION:**\n",
        "- **What is the common advice that financial advisors generally recommend to retired seniors when it comes to asset allocations?**"
      ]
    },
    {
      "cell_type": "code",
      "execution_count": null,
      "metadata": {
        "id": "PcMYTf_0fwJh"
      },
      "outputs": [],
      "source": [
        "# The conventional wisdom is to subtract client's age from 100 to calculate the % of portolio that should be allocated to stocks\n",
        "# For Example: If you're 30 years old, you should have 70% allocated to stocks\n",
        "# If you are 75 years old, you should invest 25% in stocks (old retired seniors generally recommend a more stable low risk portfolio). "
      ]
    },
    {
      "cell_type": "markdown",
      "metadata": {
        "id": "ZK9UrsUBfMKi"
      },
      "source": [
        "**MINI CHALLENGE #3 SOLUTION:** \n",
        "- **Try at least 3 another random weights allocation and rerun the code.** \n",
        "- **Compare the final portfolio value on Aug 11th, 2020 to its initial value ($1M) on January 12th, 2012. Do you notice a big difference? Comment on your answer.**"
      ]
    },
    {
      "cell_type": "code",
      "execution_count": null,
      "metadata": {
        "id": "mUKMgi7CdlGh"
      },
      "outputs": [],
      "source": [
        "# remove the seed value of 101, run the code 3 times, and record the final portolio value on the last day (Aug 11th, 2020)\n",
        "np.random.seed()\n",
        "\n",
        "# Portfolio Value Run #1 = $6.383645e+06, weights = [0.01246531 0.23749173 0.18257962 0.03419922 0.08369018 0.23405306\n",
        " 0.07120053 0.00824087 0.13607948]\n",
        "\n",
        "# Portfolio Value Run #2 = $9.594104e+06, Weights = [0.13932903 0.04729773 0.15580758 0.03232255 0.0629491  0.15081605\n",
        " 0.12206726 0.16938746 0.12002324]\n",
        "\n",
        "# Portfolio Value Run #3 = 1.138105e+07, Weights = [0.17707261 0.06977804 0.02394314 0.1550952  0.11152213 0.12017452\n",
        " 0.14296447 0.05729485 0.14215505]"
      ]
    },
    {
      "cell_type": "markdown",
      "metadata": {
        "id": "tFlpXzk7ibOZ"
      },
      "source": [
        "**MINI CHALLENGE #4 SOLUTION:**\n",
        "- **Call the function and ensure that the results make sense**"
      ]
    },
    {
      "cell_type": "code",
      "execution_count": null,
      "metadata": {
        "id": "b-Ck69O2oX17"
      },
      "outputs": [],
      "source": [
        "# Call the function\n",
        "df_portfolio = portfolio_allocation(stocks_df, weights)\n",
        "df_portfolio"
      ]
    },
    {
      "cell_type": "markdown",
      "metadata": {
        "id": "QDFMwr5GjKwX"
      },
      "source": [
        "**MINI CHALLENGE #5 SOLUTION:** \n",
        "- **Plot the portfolio overall daily worth vs. time.**\n",
        "- **Rerun the code with various weights and visualize the final value.** "
      ]
    },
    {
      "cell_type": "code",
      "execution_count": null,
      "metadata": {
        "id": "6O2v5bQEhPJ9"
      },
      "outputs": [],
      "source": [
        "fig = px.line(x = df_portfolio.Date, y = df_portfolio['portfolio daily worth in $'], title= 'Portfolio Overall Value in $')\n",
        "fig.show()"
      ]
    },
    {
      "cell_type": "markdown",
      "metadata": {
        "id": "8hqlM9IOksYx"
      },
      "source": [
        "**MINI CHALLENGE #6 SOLUTION:** \n",
        "- **Try at least 3 different random weights allocation, rerun the code and compare sharpe ratios, daily return and cummulative returns.**"
      ]
    },
    {
      "cell_type": "code",
      "execution_count": null,
      "metadata": {
        "id": "UjdtFqnZktyD"
      },
      "outputs": [],
      "source": [
        "# Rerun the code with 3 random values and compare metrics"
      ]
    },
    {
      "cell_type": "code",
      "execution_count": null,
      "metadata": {
        "id": "VQLCjQhnk1b_"
      },
      "outputs": [],
      "source": []
    }
  ],
  "metadata": {
    "colab": {
      "provenance": []
    },
    "kernelspec": {
      "display_name": "Python 3.8.12 ('spvenv': venv)",
      "language": "python",
      "name": "python3"
    },
    "language_info": {
      "codemirror_mode": {
        "name": "ipython",
        "version": 3
      },
      "file_extension": ".py",
      "mimetype": "text/x-python",
      "name": "python",
      "nbconvert_exporter": "python",
      "pygments_lexer": "ipython3",
      "version": "3.8.12"
    },
    "vscode": {
      "interpreter": {
        "hash": "92c8867a93de2738db08901520ce9dfd47c1c00492db4bd042c91bcc7a9a9303"
      }
    }
  },
  "nbformat": 4,
  "nbformat_minor": 0
}
