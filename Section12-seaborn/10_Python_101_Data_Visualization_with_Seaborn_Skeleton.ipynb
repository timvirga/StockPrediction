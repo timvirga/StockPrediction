{
  "cells": [
    {
      "cell_type": "markdown",
      "metadata": {
        "id": "WnhpHVK2bH3s"
      },
      "source": [
        "# 1. SEABORN SCATTERPLOT & COUNTPLOT"
      ]
    },
    {
      "cell_type": "code",
      "execution_count": 1,
      "metadata": {
        "id": "uTkfgtjBn6ek"
      },
      "outputs": [],
      "source": [
        "# Seaborn is a visualization library that sits on top of matplotlib\n",
        "# Seaborn offers enhanced features compared to matplotlib\n",
        "# https://seaborn.pydata.org/examples/index.html\n",
        "# import libraries \n",
        "import pandas as pd\n",
        "import numpy as np\n",
        "import matplotlib.pyplot as plt \n",
        "import seaborn as sns\n"
      ]
    },
    {
      "cell_type": "code",
      "execution_count": 4,
      "metadata": {
        "id": "8bbCI59uHICY"
      },
      "outputs": [
        {
          "data": {
            "text/plain": [
              "(3,)"
            ]
          },
          "execution_count": 4,
          "metadata": {},
          "output_type": "execute_result"
        }
      ],
      "source": [
        "# np.C_ class object translates slice objects to concatenation along the second axis.\n",
        "x1 = np.array([1,2,3])\n",
        "x1.shape"
      ]
    },
    {
      "cell_type": "code",
      "execution_count": 5,
      "metadata": {
        "id": "B8cfhCibHS7A"
      },
      "outputs": [
        {
          "data": {
            "text/plain": [
              "(3,)"
            ]
          },
          "execution_count": 5,
          "metadata": {},
          "output_type": "execute_result"
        }
      ],
      "source": [
        "x2 = np.array([4,5,6])\n",
        "x2.shape"
      ]
    },
    {
      "cell_type": "code",
      "execution_count": 8,
      "metadata": {
        "id": "AnTgR6-OHRFK"
      },
      "outputs": [
        {
          "name": "stdout",
          "output_type": "stream",
          "text": [
            "[[1 4]\n",
            " [2 5]\n",
            " [3 6]]\n",
            "(3, 2)\n"
          ]
        }
      ],
      "source": [
        "z = np.c_[x1,x2] # np.c_ is used to concatenate arrays into a 'joint' array\n",
        "print(z)\n",
        "print(z.shape)"
      ]
    },
    {
      "cell_type": "code",
      "execution_count": null,
      "metadata": {
        "id": "bUQkwM8IHtlp"
      },
      "outputs": [],
      "source": [
        "# Import Cancer data drom the Sklearn library\n"
      ]
    },
    {
      "cell_type": "code",
      "execution_count": null,
      "metadata": {
        "id": "Y5w4VqKCHvox"
      },
      "outputs": [],
      "source": []
    },
    {
      "cell_type": "code",
      "execution_count": null,
      "metadata": {
        "id": "tZEMoIXPoiqI"
      },
      "outputs": [],
      "source": [
        "# Create a dataFrame named df_cancer with input/output data\n"
      ]
    },
    {
      "cell_type": "code",
      "execution_count": null,
      "metadata": {
        "id": "BCBZU_VQoqIz"
      },
      "outputs": [],
      "source": [
        "# Check out the head of the dataframe\n"
      ]
    },
    {
      "cell_type": "code",
      "execution_count": null,
      "metadata": {
        "id": "8XkZE6jCdfBS"
      },
      "outputs": [],
      "source": [
        "# Check out the tail of the dataframe\n"
      ]
    },
    {
      "cell_type": "code",
      "execution_count": null,
      "metadata": {
        "id": "atb9g7nGo1Zf"
      },
      "outputs": [],
      "source": [
        "# Plot scatter plot between mean area and mean smoothness\n"
      ]
    },
    {
      "cell_type": "code",
      "execution_count": null,
      "metadata": {
        "id": "rc3p4fBso1XA"
      },
      "outputs": [],
      "source": [
        "# Let's print out countplot to know how many samples belong to class #0 and #1\n"
      ]
    },
    {
      "cell_type": "markdown",
      "metadata": {
        "id": "RIpzECOpcFa5"
      },
      "source": [
        "**MINI CHALLENGE #1:**\n",
        "- **Plot the scatterplot between the mean radius and mean area. Comment on the plot** \n"
      ]
    },
    {
      "cell_type": "code",
      "execution_count": null,
      "metadata": {
        "id": "14dehTx3dNAw"
      },
      "outputs": [],
      "source": []
    },
    {
      "cell_type": "markdown",
      "metadata": {
        "id": "Al9AW2YLbezU"
      },
      "source": [
        "# 2. SEABORN PAIRPLOT, DISPLOT, AND HEATMAPS/CORRELATIONS"
      ]
    },
    {
      "cell_type": "code",
      "execution_count": null,
      "metadata": {
        "id": "DYsVoE4ko1Up"
      },
      "outputs": [],
      "source": [
        "# Plot the pairplot\n"
      ]
    },
    {
      "cell_type": "code",
      "execution_count": null,
      "metadata": {
        "id": "u_UzA1GFo1cK"
      },
      "outputs": [],
      "source": [
        "# Strong correlation between the mean radius and mean perimeter, mean area and mean primeter\n"
      ]
    },
    {
      "cell_type": "code",
      "execution_count": null,
      "metadata": {
        "id": "m01UPXL9pGsM"
      },
      "outputs": [],
      "source": [
        "# plot the distplot \n",
        "# Displot combines matplotlib histogram function with kdeplot() (Kernel density estimate)\n",
        "# KDE is used to plot the Probability Density of a continuous variable. \n",
        "\n"
      ]
    },
    {
      "cell_type": "markdown",
      "metadata": {
        "id": "BlEUElj_gGrm"
      },
      "source": [
        "**MINI CHALLENGE #2:**\n",
        "- **Plot two separate distplot for each target class #0 and target class #1**\n"
      ]
    },
    {
      "cell_type": "code",
      "execution_count": null,
      "metadata": {
        "id": "JPrD3KlngIcb"
      },
      "outputs": [],
      "source": []
    },
    {
      "cell_type": "code",
      "execution_count": null,
      "metadata": {
        "id": "gOSi69b9ROSn"
      },
      "outputs": [],
      "source": []
    },
    {
      "cell_type": "code",
      "execution_count": null,
      "metadata": {
        "id": "2CPA2hTOROV0"
      },
      "outputs": [],
      "source": []
    },
    {
      "cell_type": "code",
      "execution_count": null,
      "metadata": {
        "id": "t5ntc3muROYh"
      },
      "outputs": [],
      "source": []
    },
    {
      "cell_type": "code",
      "execution_count": null,
      "metadata": {
        "id": "9QwPrO3qRObJ"
      },
      "outputs": [],
      "source": []
    },
    {
      "cell_type": "markdown",
      "metadata": {
        "id": "_o555HjYbtlP"
      },
      "source": [
        "# EXCELLENT JOB!"
      ]
    },
    {
      "cell_type": "markdown",
      "metadata": {
        "id": "-iXHoC8PbwSg"
      },
      "source": [
        "# MINI CHALLENGE SOLUTIONS:"
      ]
    },
    {
      "cell_type": "markdown",
      "metadata": {
        "id": "GTN9KMR7dIWt"
      },
      "source": [
        "**MINI CHALLENGE #1 SOLUTION:**\n",
        "- **Plot the scatterplot between the mean radius and mean area. Comment on the plot** \n"
      ]
    },
    {
      "cell_type": "code",
      "execution_count": null,
      "metadata": {
        "id": "jo00_TzudIWw"
      },
      "outputs": [],
      "source": [
        "sns.scatterplot(x = 'mean radius', y = 'mean area', hue = 'target', data = df_cancer)\n",
        "# As mean radius increases, mean area increases \n",
        "# class #0 generally has larger mean radius and mean area compared to class #1"
      ]
    },
    {
      "cell_type": "markdown",
      "metadata": {
        "id": "f5qD9kzIeQZE"
      },
      "source": [
        "**MINI CHALLENGE #2 SOLUTION:**\n",
        "- **Plot two separate distplot for each target class #0 and target class #1**\n"
      ]
    },
    {
      "cell_type": "code",
      "execution_count": null,
      "metadata": {
        "id": "YX0FkgQGfLbC"
      },
      "outputs": [],
      "source": [
        "class_0_df = df_cancer[ df_cancer['target']==0 ]\n",
        "class_1_df = df_cancer[ df_cancer['target']==1 ]"
      ]
    },
    {
      "cell_type": "code",
      "execution_count": null,
      "metadata": {
        "id": "D1DTuyaIfX-e"
      },
      "outputs": [],
      "source": [
        "class_0_df"
      ]
    },
    {
      "cell_type": "code",
      "execution_count": null,
      "metadata": {
        "id": "cftPJApPfaUm"
      },
      "outputs": [],
      "source": [
        "class_1_df"
      ]
    },
    {
      "cell_type": "code",
      "execution_count": null,
      "metadata": {
        "id": "hN10mhlzefSO"
      },
      "outputs": [],
      "source": [
        "# Plot the distplot for both classes\n",
        "plt.figure(figsize=(10, 7))\n",
        "sns.distplot(class_0_df['mean radius'], bins = 25, color = 'blue')\n",
        "sns.distplot(class_1_df['mean radius'], bins = 25, color = 'red')\n",
        "plt.grid()"
      ]
    }
  ],
  "metadata": {
    "colab": {
      "collapsed_sections": [],
      "provenance": []
    },
    "kernelspec": {
      "display_name": "Python 3.8.12 ('spvenv': venv)",
      "language": "python",
      "name": "python3"
    },
    "language_info": {
      "codemirror_mode": {
        "name": "ipython",
        "version": 3
      },
      "file_extension": ".py",
      "mimetype": "text/x-python",
      "name": "python",
      "nbconvert_exporter": "python",
      "pygments_lexer": "ipython3",
      "version": "3.8.12"
    },
    "vscode": {
      "interpreter": {
        "hash": "92c8867a93de2738db08901520ce9dfd47c1c00492db4bd042c91bcc7a9a9303"
      }
    }
  },
  "nbformat": 4,
  "nbformat_minor": 0
}
