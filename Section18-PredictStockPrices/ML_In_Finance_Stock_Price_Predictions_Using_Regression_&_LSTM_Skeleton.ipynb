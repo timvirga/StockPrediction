{
  "cells": [
    {
      "cell_type": "markdown",
      "metadata": {
        "id": "vqgA_yPbGFnM"
      },
      "source": [
        "#TASK #1: UNDERSTAND THE PROBLEM STATEMENT & BUSINESS CASE"
      ]
    },
    {
      "cell_type": "markdown",
      "metadata": {
        "id": "7o5Rh_XophbT"
      },
      "source": [
        "![alt text](https://drive.google.com/uc?id=1U3eRNUYyza1A7EFopacJyujR87Vm_ae8)\n"
      ]
    },
    {
      "cell_type": "markdown",
      "metadata": {
        "id": "ttbJv3I1rpn3"
      },
      "source": [
        "![alt text](https://drive.google.com/uc?id=139zlnLGzYen-GbcnkXQZs44tf7OqV8e4)"
      ]
    },
    {
      "cell_type": "markdown",
      "metadata": {
        "id": "3n66xj4BGKWM"
      },
      "source": [
        "#TASK #2: IMPORT DATASETS AND LIBRARIES\n"
      ]
    },
    {
      "cell_type": "code",
      "execution_count": null,
      "metadata": {
        "id": "9sPZpiBGYcYB"
      },
      "outputs": [],
      "source": [
        "# Mount Google Drive\n",
        "from google.colab import drive\n",
        "drive.mount('/content/drive')"
      ]
    },
    {
      "cell_type": "code",
      "execution_count": 2,
      "metadata": {
        "id": "KVxYSMIUxx_U"
      },
      "outputs": [],
      "source": [
        "import pandas as pd\n",
        "import plotly.express as px\n",
        "from copy import copy\n",
        "from scipy import stats\n",
        "import matplotlib.pyplot as plt\n",
        "import numpy as np\n",
        "import plotly.figure_factory as ff\n",
        "from sklearn.linear_model import LinearRegression\n",
        "from sklearn.model_selection import train_test_split\n",
        "from tensorflow import keras\n",
        "import os \n"
      ]
    },
    {
      "cell_type": "code",
      "execution_count": 11,
      "metadata": {
        "id": "HbxX37RAYEXS"
      },
      "outputs": [],
      "source": [
        "\n",
        "# Read the stock data file\n",
        "os.getcwd()\n",
        "stocks_df = pd.read_csv('stock.csv')"
      ]
    },
    {
      "cell_type": "code",
      "execution_count": 12,
      "metadata": {
        "id": "WbBDdWcm9dLH"
      },
      "outputs": [],
      "source": [
        "# Read the stocks volume data\n",
        "stocks_df_volume = pd.read_csv('stock_volume.csv')"
      ]
    },
    {
      "cell_type": "code",
      "execution_count": 21,
      "metadata": {
        "id": "et-6_Df_Gcod"
      },
      "outputs": [
        {
          "data": {
            "text/html": [
              "<div>\n",
              "<style scoped>\n",
              "    .dataframe tbody tr th:only-of-type {\n",
              "        vertical-align: middle;\n",
              "    }\n",
              "\n",
              "    .dataframe tbody tr th {\n",
              "        vertical-align: top;\n",
              "    }\n",
              "\n",
              "    .dataframe thead th {\n",
              "        text-align: right;\n",
              "    }\n",
              "</style>\n",
              "<table border=\"1\" class=\"dataframe\">\n",
              "  <thead>\n",
              "    <tr style=\"text-align: right;\">\n",
              "      <th></th>\n",
              "      <th>Date</th>\n",
              "      <th>AAPL</th>\n",
              "      <th>BA</th>\n",
              "      <th>T</th>\n",
              "      <th>MGM</th>\n",
              "      <th>AMZN</th>\n",
              "      <th>IBM</th>\n",
              "      <th>TSLA</th>\n",
              "      <th>GOOG</th>\n",
              "      <th>sp500</th>\n",
              "    </tr>\n",
              "  </thead>\n",
              "  <tbody>\n",
              "    <tr>\n",
              "      <th>0</th>\n",
              "      <td>2012-01-12</td>\n",
              "      <td>60.198570</td>\n",
              "      <td>75.510002</td>\n",
              "      <td>30.120001</td>\n",
              "      <td>12.130000</td>\n",
              "      <td>175.929993</td>\n",
              "      <td>180.550003</td>\n",
              "      <td>28.250000</td>\n",
              "      <td>313.644379</td>\n",
              "      <td>1295.500000</td>\n",
              "    </tr>\n",
              "    <tr>\n",
              "      <th>1</th>\n",
              "      <td>2012-01-13</td>\n",
              "      <td>59.972858</td>\n",
              "      <td>74.599998</td>\n",
              "      <td>30.070000</td>\n",
              "      <td>12.350000</td>\n",
              "      <td>178.419998</td>\n",
              "      <td>179.160004</td>\n",
              "      <td>22.790001</td>\n",
              "      <td>311.328064</td>\n",
              "      <td>1289.089966</td>\n",
              "    </tr>\n",
              "    <tr>\n",
              "      <th>2</th>\n",
              "      <td>2012-01-17</td>\n",
              "      <td>60.671429</td>\n",
              "      <td>75.239998</td>\n",
              "      <td>30.250000</td>\n",
              "      <td>12.250000</td>\n",
              "      <td>181.660004</td>\n",
              "      <td>180.000000</td>\n",
              "      <td>26.600000</td>\n",
              "      <td>313.116364</td>\n",
              "      <td>1293.670044</td>\n",
              "    </tr>\n",
              "    <tr>\n",
              "      <th>3</th>\n",
              "      <td>2012-01-18</td>\n",
              "      <td>61.301430</td>\n",
              "      <td>75.059998</td>\n",
              "      <td>30.330000</td>\n",
              "      <td>12.730000</td>\n",
              "      <td>189.440002</td>\n",
              "      <td>181.070007</td>\n",
              "      <td>26.809999</td>\n",
              "      <td>315.273285</td>\n",
              "      <td>1308.040039</td>\n",
              "    </tr>\n",
              "    <tr>\n",
              "      <th>4</th>\n",
              "      <td>2012-01-19</td>\n",
              "      <td>61.107143</td>\n",
              "      <td>75.559998</td>\n",
              "      <td>30.420000</td>\n",
              "      <td>12.800000</td>\n",
              "      <td>194.449997</td>\n",
              "      <td>180.520004</td>\n",
              "      <td>26.760000</td>\n",
              "      <td>318.590851</td>\n",
              "      <td>1314.500000</td>\n",
              "    </tr>\n",
              "    <tr>\n",
              "      <th>...</th>\n",
              "      <td>...</td>\n",
              "      <td>...</td>\n",
              "      <td>...</td>\n",
              "      <td>...</td>\n",
              "      <td>...</td>\n",
              "      <td>...</td>\n",
              "      <td>...</td>\n",
              "      <td>...</td>\n",
              "      <td>...</td>\n",
              "      <td>...</td>\n",
              "    </tr>\n",
              "    <tr>\n",
              "      <th>2154</th>\n",
              "      <td>2020-08-05</td>\n",
              "      <td>440.250000</td>\n",
              "      <td>174.279999</td>\n",
              "      <td>29.850000</td>\n",
              "      <td>16.719999</td>\n",
              "      <td>3205.030029</td>\n",
              "      <td>125.449997</td>\n",
              "      <td>1485.020020</td>\n",
              "      <td>1473.609985</td>\n",
              "      <td>3327.770020</td>\n",
              "    </tr>\n",
              "    <tr>\n",
              "      <th>2155</th>\n",
              "      <td>2020-08-06</td>\n",
              "      <td>455.609985</td>\n",
              "      <td>172.199997</td>\n",
              "      <td>29.840000</td>\n",
              "      <td>18.459999</td>\n",
              "      <td>3225.000000</td>\n",
              "      <td>126.120003</td>\n",
              "      <td>1489.579956</td>\n",
              "      <td>1500.099976</td>\n",
              "      <td>3349.159912</td>\n",
              "    </tr>\n",
              "    <tr>\n",
              "      <th>2156</th>\n",
              "      <td>2020-08-07</td>\n",
              "      <td>444.450012</td>\n",
              "      <td>170.020004</td>\n",
              "      <td>30.020000</td>\n",
              "      <td>19.030001</td>\n",
              "      <td>3167.459961</td>\n",
              "      <td>124.959999</td>\n",
              "      <td>1452.709961</td>\n",
              "      <td>1494.489990</td>\n",
              "      <td>3351.280029</td>\n",
              "    </tr>\n",
              "    <tr>\n",
              "      <th>2157</th>\n",
              "      <td>2020-08-10</td>\n",
              "      <td>450.910004</td>\n",
              "      <td>179.410004</td>\n",
              "      <td>30.200001</td>\n",
              "      <td>21.650000</td>\n",
              "      <td>3148.159912</td>\n",
              "      <td>127.110001</td>\n",
              "      <td>1418.569946</td>\n",
              "      <td>1496.099976</td>\n",
              "      <td>3360.469971</td>\n",
              "    </tr>\n",
              "    <tr>\n",
              "      <th>2158</th>\n",
              "      <td>2020-08-11</td>\n",
              "      <td>437.500000</td>\n",
              "      <td>180.130005</td>\n",
              "      <td>30.200001</td>\n",
              "      <td>21.500000</td>\n",
              "      <td>3080.669922</td>\n",
              "      <td>126.750000</td>\n",
              "      <td>1374.390015</td>\n",
              "      <td>1480.319946</td>\n",
              "      <td>3333.689941</td>\n",
              "    </tr>\n",
              "  </tbody>\n",
              "</table>\n",
              "<p>2159 rows × 10 columns</p>\n",
              "</div>"
            ],
            "text/plain": [
              "            Date        AAPL          BA          T        MGM         AMZN  \\\n",
              "0     2012-01-12   60.198570   75.510002  30.120001  12.130000   175.929993   \n",
              "1     2012-01-13   59.972858   74.599998  30.070000  12.350000   178.419998   \n",
              "2     2012-01-17   60.671429   75.239998  30.250000  12.250000   181.660004   \n",
              "3     2012-01-18   61.301430   75.059998  30.330000  12.730000   189.440002   \n",
              "4     2012-01-19   61.107143   75.559998  30.420000  12.800000   194.449997   \n",
              "...          ...         ...         ...        ...        ...          ...   \n",
              "2154  2020-08-05  440.250000  174.279999  29.850000  16.719999  3205.030029   \n",
              "2155  2020-08-06  455.609985  172.199997  29.840000  18.459999  3225.000000   \n",
              "2156  2020-08-07  444.450012  170.020004  30.020000  19.030001  3167.459961   \n",
              "2157  2020-08-10  450.910004  179.410004  30.200001  21.650000  3148.159912   \n",
              "2158  2020-08-11  437.500000  180.130005  30.200001  21.500000  3080.669922   \n",
              "\n",
              "             IBM         TSLA         GOOG        sp500  \n",
              "0     180.550003    28.250000   313.644379  1295.500000  \n",
              "1     179.160004    22.790001   311.328064  1289.089966  \n",
              "2     180.000000    26.600000   313.116364  1293.670044  \n",
              "3     181.070007    26.809999   315.273285  1308.040039  \n",
              "4     180.520004    26.760000   318.590851  1314.500000  \n",
              "...          ...          ...          ...          ...  \n",
              "2154  125.449997  1485.020020  1473.609985  3327.770020  \n",
              "2155  126.120003  1489.579956  1500.099976  3349.159912  \n",
              "2156  124.959999  1452.709961  1494.489990  3351.280029  \n",
              "2157  127.110001  1418.569946  1496.099976  3360.469971  \n",
              "2158  126.750000  1374.390015  1480.319946  3333.689941  \n",
              "\n",
              "[2159 rows x 10 columns]"
            ]
          },
          "execution_count": 21,
          "metadata": {},
          "output_type": "execute_result"
        }
      ],
      "source": [
        "# Sort the data based on Date\n",
        "stocks_df = stocks_df.sort_values(by= ['Date'])\n",
        "stocks_df"
      ]
    },
    {
      "cell_type": "code",
      "execution_count": 22,
      "metadata": {
        "id": "ROFg8mJP9s0W"
      },
      "outputs": [
        {
          "data": {
            "text/html": [
              "<div>\n",
              "<style scoped>\n",
              "    .dataframe tbody tr th:only-of-type {\n",
              "        vertical-align: middle;\n",
              "    }\n",
              "\n",
              "    .dataframe tbody tr th {\n",
              "        vertical-align: top;\n",
              "    }\n",
              "\n",
              "    .dataframe thead th {\n",
              "        text-align: right;\n",
              "    }\n",
              "</style>\n",
              "<table border=\"1\" class=\"dataframe\">\n",
              "  <thead>\n",
              "    <tr style=\"text-align: right;\">\n",
              "      <th></th>\n",
              "      <th>Date</th>\n",
              "      <th>AAPL</th>\n",
              "      <th>BA</th>\n",
              "      <th>T</th>\n",
              "      <th>MGM</th>\n",
              "      <th>AMZN</th>\n",
              "      <th>IBM</th>\n",
              "      <th>TSLA</th>\n",
              "      <th>GOOG</th>\n",
              "      <th>sp500</th>\n",
              "    </tr>\n",
              "  </thead>\n",
              "  <tbody>\n",
              "    <tr>\n",
              "      <th>0</th>\n",
              "      <td>2012-01-12</td>\n",
              "      <td>53146800</td>\n",
              "      <td>3934500</td>\n",
              "      <td>26511100</td>\n",
              "      <td>17891100</td>\n",
              "      <td>5385800</td>\n",
              "      <td>6881000</td>\n",
              "      <td>729300</td>\n",
              "      <td>3764400</td>\n",
              "      <td>4019890000</td>\n",
              "    </tr>\n",
              "    <tr>\n",
              "      <th>1</th>\n",
              "      <td>2012-01-13</td>\n",
              "      <td>56505400</td>\n",
              "      <td>4641100</td>\n",
              "      <td>22096800</td>\n",
              "      <td>16621800</td>\n",
              "      <td>4753500</td>\n",
              "      <td>5279200</td>\n",
              "      <td>5500400</td>\n",
              "      <td>4631800</td>\n",
              "      <td>3692370000</td>\n",
              "    </tr>\n",
              "    <tr>\n",
              "      <th>2</th>\n",
              "      <td>2012-01-17</td>\n",
              "      <td>60724300</td>\n",
              "      <td>3700100</td>\n",
              "      <td>23500200</td>\n",
              "      <td>15480800</td>\n",
              "      <td>5644500</td>\n",
              "      <td>6003400</td>\n",
              "      <td>4651600</td>\n",
              "      <td>3832800</td>\n",
              "      <td>4010490000</td>\n",
              "    </tr>\n",
              "    <tr>\n",
              "      <th>3</th>\n",
              "      <td>2012-01-18</td>\n",
              "      <td>69197800</td>\n",
              "      <td>4189500</td>\n",
              "      <td>22015000</td>\n",
              "      <td>18387600</td>\n",
              "      <td>7473500</td>\n",
              "      <td>4600600</td>\n",
              "      <td>1260200</td>\n",
              "      <td>5544000</td>\n",
              "      <td>4096160000</td>\n",
              "    </tr>\n",
              "    <tr>\n",
              "      <th>4</th>\n",
              "      <td>2012-01-19</td>\n",
              "      <td>65434600</td>\n",
              "      <td>5397300</td>\n",
              "      <td>25524000</td>\n",
              "      <td>14022900</td>\n",
              "      <td>7096000</td>\n",
              "      <td>8567200</td>\n",
              "      <td>1246300</td>\n",
              "      <td>12657800</td>\n",
              "      <td>4465890000</td>\n",
              "    </tr>\n",
              "    <tr>\n",
              "      <th>...</th>\n",
              "      <td>...</td>\n",
              "      <td>...</td>\n",
              "      <td>...</td>\n",
              "      <td>...</td>\n",
              "      <td>...</td>\n",
              "      <td>...</td>\n",
              "      <td>...</td>\n",
              "      <td>...</td>\n",
              "      <td>...</td>\n",
              "      <td>...</td>\n",
              "    </tr>\n",
              "    <tr>\n",
              "      <th>2154</th>\n",
              "      <td>2020-08-05</td>\n",
              "      <td>30498000</td>\n",
              "      <td>46551000</td>\n",
              "      <td>22991700</td>\n",
              "      <td>18914200</td>\n",
              "      <td>3930000</td>\n",
              "      <td>3675400</td>\n",
              "      <td>4978000</td>\n",
              "      <td>1979500</td>\n",
              "      <td>4732220000</td>\n",
              "    </tr>\n",
              "    <tr>\n",
              "      <th>2155</th>\n",
              "      <td>2020-08-06</td>\n",
              "      <td>50607200</td>\n",
              "      <td>32921600</td>\n",
              "      <td>21908700</td>\n",
              "      <td>35867700</td>\n",
              "      <td>3940600</td>\n",
              "      <td>3417100</td>\n",
              "      <td>5992300</td>\n",
              "      <td>1995400</td>\n",
              "      <td>4267490000</td>\n",
              "    </tr>\n",
              "    <tr>\n",
              "      <th>2156</th>\n",
              "      <td>2020-08-07</td>\n",
              "      <td>49453300</td>\n",
              "      <td>19301600</td>\n",
              "      <td>30398500</td>\n",
              "      <td>34530300</td>\n",
              "      <td>3929600</td>\n",
              "      <td>3651000</td>\n",
              "      <td>8883500</td>\n",
              "      <td>1576600</td>\n",
              "      <td>4104860000</td>\n",
              "    </tr>\n",
              "    <tr>\n",
              "      <th>2157</th>\n",
              "      <td>2020-08-10</td>\n",
              "      <td>53100900</td>\n",
              "      <td>35857700</td>\n",
              "      <td>35514400</td>\n",
              "      <td>71219700</td>\n",
              "      <td>3167300</td>\n",
              "      <td>3968300</td>\n",
              "      <td>7522300</td>\n",
              "      <td>1289300</td>\n",
              "      <td>4318570000</td>\n",
              "    </tr>\n",
              "    <tr>\n",
              "      <th>2158</th>\n",
              "      <td>2020-08-11</td>\n",
              "      <td>46871100</td>\n",
              "      <td>60966900</td>\n",
              "      <td>30978300</td>\n",
              "      <td>34357900</td>\n",
              "      <td>3706600</td>\n",
              "      <td>4998500</td>\n",
              "      <td>8356000</td>\n",
              "      <td>1452000</td>\n",
              "      <td>5087650000</td>\n",
              "    </tr>\n",
              "  </tbody>\n",
              "</table>\n",
              "<p>2159 rows × 10 columns</p>\n",
              "</div>"
            ],
            "text/plain": [
              "            Date      AAPL        BA         T       MGM     AMZN      IBM  \\\n",
              "0     2012-01-12  53146800   3934500  26511100  17891100  5385800  6881000   \n",
              "1     2012-01-13  56505400   4641100  22096800  16621800  4753500  5279200   \n",
              "2     2012-01-17  60724300   3700100  23500200  15480800  5644500  6003400   \n",
              "3     2012-01-18  69197800   4189500  22015000  18387600  7473500  4600600   \n",
              "4     2012-01-19  65434600   5397300  25524000  14022900  7096000  8567200   \n",
              "...          ...       ...       ...       ...       ...      ...      ...   \n",
              "2154  2020-08-05  30498000  46551000  22991700  18914200  3930000  3675400   \n",
              "2155  2020-08-06  50607200  32921600  21908700  35867700  3940600  3417100   \n",
              "2156  2020-08-07  49453300  19301600  30398500  34530300  3929600  3651000   \n",
              "2157  2020-08-10  53100900  35857700  35514400  71219700  3167300  3968300   \n",
              "2158  2020-08-11  46871100  60966900  30978300  34357900  3706600  4998500   \n",
              "\n",
              "         TSLA      GOOG       sp500  \n",
              "0      729300   3764400  4019890000  \n",
              "1     5500400   4631800  3692370000  \n",
              "2     4651600   3832800  4010490000  \n",
              "3     1260200   5544000  4096160000  \n",
              "4     1246300  12657800  4465890000  \n",
              "...       ...       ...         ...  \n",
              "2154  4978000   1979500  4732220000  \n",
              "2155  5992300   1995400  4267490000  \n",
              "2156  8883500   1576600  4104860000  \n",
              "2157  7522300   1289300  4318570000  \n",
              "2158  8356000   1452000  5087650000  \n",
              "\n",
              "[2159 rows x 10 columns]"
            ]
          },
          "execution_count": 22,
          "metadata": {},
          "output_type": "execute_result"
        }
      ],
      "source": [
        "# Sort the volume data based on Date\n",
        "stocks_df_volume = stocks_df_volume.sort_values(by= ['Date'])\n",
        "stocks_df_volume"
      ]
    },
    {
      "cell_type": "code",
      "execution_count": 15,
      "metadata": {
        "id": "hvihVJ0UZ2fe"
      },
      "outputs": [
        {
          "data": {
            "text/plain": [
              "Date     False\n",
              "AAPL     False\n",
              "BA       False\n",
              "T        False\n",
              "MGM      False\n",
              "AMZN     False\n",
              "IBM      False\n",
              "TSLA     False\n",
              "GOOG     False\n",
              "sp500    False\n",
              "dtype: bool"
            ]
          },
          "execution_count": 15,
          "metadata": {},
          "output_type": "execute_result"
        }
      ],
      "source": [
        "# Check if Null values exist in stock prices data\n",
        "stocks_df.isnull().any()"
      ]
    },
    {
      "cell_type": "code",
      "execution_count": 16,
      "metadata": {
        "id": "NkMQnKIZ099u"
      },
      "outputs": [
        {
          "data": {
            "text/plain": [
              "Date     False\n",
              "AAPL     False\n",
              "BA       False\n",
              "T        False\n",
              "MGM      False\n",
              "AMZN     False\n",
              "IBM      False\n",
              "TSLA     False\n",
              "GOOG     False\n",
              "sp500    False\n",
              "dtype: bool"
            ]
          },
          "execution_count": 16,
          "metadata": {},
          "output_type": "execute_result"
        }
      ],
      "source": [
        "# Check if Null values exist in stocks volume data\n",
        "stocks_df_volume.isnull().any()"
      ]
    },
    {
      "cell_type": "code",
      "execution_count": 18,
      "metadata": {
        "id": "Z4nClRot5F4y"
      },
      "outputs": [
        {
          "name": "stdout",
          "output_type": "stream",
          "text": [
            "<class 'pandas.core.frame.DataFrame'>\n",
            "Int64Index: 2159 entries, 0 to 2158\n",
            "Data columns (total 10 columns):\n",
            " #   Column  Non-Null Count  Dtype  \n",
            "---  ------  --------------  -----  \n",
            " 0   Date    2159 non-null   object \n",
            " 1   AAPL    2159 non-null   float64\n",
            " 2   BA      2159 non-null   float64\n",
            " 3   T       2159 non-null   float64\n",
            " 4   MGM     2159 non-null   float64\n",
            " 5   AMZN    2159 non-null   float64\n",
            " 6   IBM     2159 non-null   float64\n",
            " 7   TSLA    2159 non-null   float64\n",
            " 8   GOOG    2159 non-null   float64\n",
            " 9   sp500   2159 non-null   float64\n",
            "dtypes: float64(9), object(1)\n",
            "memory usage: 185.5+ KB\n"
          ]
        }
      ],
      "source": [
        "# Get stock prices dataframe info\n",
        "stocks_df.info()"
      ]
    },
    {
      "cell_type": "code",
      "execution_count": 19,
      "metadata": {
        "id": "onwN8ky494An"
      },
      "outputs": [
        {
          "name": "stdout",
          "output_type": "stream",
          "text": [
            "<class 'pandas.core.frame.DataFrame'>\n",
            "Int64Index: 2159 entries, 0 to 2158\n",
            "Data columns (total 10 columns):\n",
            " #   Column  Non-Null Count  Dtype \n",
            "---  ------  --------------  ----- \n",
            " 0   Date    2159 non-null   object\n",
            " 1   AAPL    2159 non-null   int64 \n",
            " 2   BA      2159 non-null   int64 \n",
            " 3   T       2159 non-null   int64 \n",
            " 4   MGM     2159 non-null   int64 \n",
            " 5   AMZN    2159 non-null   int64 \n",
            " 6   IBM     2159 non-null   int64 \n",
            " 7   TSLA    2159 non-null   int64 \n",
            " 8   GOOG    2159 non-null   int64 \n",
            " 9   sp500   2159 non-null   int64 \n",
            "dtypes: int64(9), object(1)\n",
            "memory usage: 185.5+ KB\n"
          ]
        }
      ],
      "source": [
        "# Get stock volume dataframe info\n",
        "stocks_df_volume.info()"
      ]
    },
    {
      "cell_type": "markdown",
      "metadata": {
        "id": "h-RXyk-jceFT"
      },
      "source": [
        "**MINI CHALLENGE #1:**\n",
        "- **What is the average trading volume for Apple stock?**\n",
        "- **What is the maximum trading volume for sp500?**\n",
        "- **Which security is traded the most? comment on your answer**\n",
        "- **What is the average stock price of the S&P500 over the specified time period?**\n",
        "- **What is the maximum price of Tesla Stock?**\n"
      ]
    },
    {
      "cell_type": "code",
      "execution_count": 20,
      "metadata": {
        "id": "XXEffbieBXY5"
      },
      "outputs": [
        {
          "data": {
            "text/plain": [
              "58203317.41547012"
            ]
          },
          "execution_count": 20,
          "metadata": {},
          "output_type": "execute_result"
        }
      ],
      "source": [
        "# What is the average trading volume for Apple stock?**\n",
        "stocks_df_volume['AAPL'].mean()\n"
      ]
    },
    {
      "cell_type": "code",
      "execution_count": 23,
      "metadata": {},
      "outputs": [
        {
          "data": {
            "text/plain": [
              "9044690000"
            ]
          },
          "execution_count": 23,
          "metadata": {},
          "output_type": "execute_result"
        }
      ],
      "source": [
        "# - **What is the maximum trading volume for sp500?**\n",
        "stocks_df_volume['sp500'].max()"
      ]
    },
    {
      "cell_type": "code",
      "execution_count": 24,
      "metadata": {},
      "outputs": [
        {
          "data": {
            "text/plain": [
              "Date     2020-08-11\n",
              "AAPL      376530000\n",
              "BA        103212800\n",
              "T         195082700\n",
              "MGM        90098200\n",
              "AMZN       23856100\n",
              "IBM        30490200\n",
              "TSLA       60938800\n",
              "GOOG       24977900\n",
              "sp500    9044690000\n",
              "dtype: object"
            ]
          },
          "execution_count": 24,
          "metadata": {},
          "output_type": "execute_result"
        }
      ],
      "source": [
        "# - **Which security is traded the most? comment on your answer**\n",
        "stocks_df_volume.max()\n",
        "\n",
        "# AAPL is the most traded single security, however, the s&p500 is of course the most traded being the index"
      ]
    },
    {
      "cell_type": "code",
      "execution_count": 25,
      "metadata": {
        "id": "qBdtyxEZeIcL"
      },
      "outputs": [
        {
          "data": {
            "text/plain": [
              "2218.7495540592868"
            ]
          },
          "execution_count": 25,
          "metadata": {},
          "output_type": "execute_result"
        }
      ],
      "source": [
        "# - **What is the average stock price of the S&P500 over the specified time period?**\n",
        "stocks_df['sp500'].mean()"
      ]
    },
    {
      "cell_type": "code",
      "execution_count": 26,
      "metadata": {},
      "outputs": [
        {
          "data": {
            "text/plain": [
              "1643.0"
            ]
          },
          "execution_count": 26,
          "metadata": {},
          "output_type": "execute_result"
        }
      ],
      "source": [
        "# - **What is the maximum price of Tesla Stock?**\n",
        "stocks_df['TSLA'].max()"
      ]
    },
    {
      "cell_type": "markdown",
      "metadata": {
        "id": "-nFC4pHcGr57"
      },
      "source": [
        "#TASK #3: PERFORM EXPLORATORY DATA ANALYSIS AND VISUALIZATION"
      ]
    },
    {
      "cell_type": "code",
      "execution_count": null,
      "metadata": {
        "id": "YDkIJX8rEMxC"
      },
      "outputs": [],
      "source": [
        "# Function to normalize stock prices based on their initial price\n"
      ]
    },
    {
      "cell_type": "code",
      "execution_count": null,
      "metadata": {
        "id": "hGNiYwkkLqfu"
      },
      "outputs": [],
      "source": [
        "# Function to plot interactive plots using Plotly Express\n"
      ]
    },
    {
      "cell_type": "code",
      "execution_count": null,
      "metadata": {
        "id": "zzkZZQ5NO2AJ"
      },
      "outputs": [],
      "source": [
        "# plot interactive chart for stocks data\n"
      ]
    },
    {
      "cell_type": "markdown",
      "metadata": {
        "id": "478ealCpgji9"
      },
      "source": [
        "**MINI CHALLENGE #2:**\n",
        "- **Plot the volume dataset for all stocks, list any observations you might see.**\n",
        "- **Plot the normalized stock prices and volume dataset.**"
      ]
    },
    {
      "cell_type": "code",
      "execution_count": null,
      "metadata": {
        "id": "bqSp2dMnhaVW"
      },
      "outputs": [],
      "source": []
    },
    {
      "cell_type": "code",
      "execution_count": null,
      "metadata": {
        "id": "TI1gPnPJIeYR"
      },
      "outputs": [],
      "source": []
    },
    {
      "cell_type": "code",
      "execution_count": null,
      "metadata": {
        "id": "hOE-hbUBIemY"
      },
      "outputs": [],
      "source": []
    },
    {
      "cell_type": "markdown",
      "metadata": {
        "id": "DFE61_E-gu5V"
      },
      "source": [
        "# TASK #4: PREPARE THE DATA BEFORE TRAINING THE AI/ML MODEL"
      ]
    },
    {
      "cell_type": "markdown",
      "metadata": {
        "id": "sWflwv1or9s_"
      },
      "source": [
        "![alt text](https://drive.google.com/uc?id=1uXYYHfgeJyncu4BZRAooTC4iCclH9e9B)"
      ]
    },
    {
      "cell_type": "code",
      "execution_count": null,
      "metadata": {
        "id": "LA1XN-zgBMHI"
      },
      "outputs": [],
      "source": [
        "# Function to concatenate the date, stock price, and volume in one dataframe\n"
      ]
    },
    {
      "cell_type": "code",
      "execution_count": null,
      "metadata": {
        "id": "NP_-Yyay__cb"
      },
      "outputs": [],
      "source": [
        "# Function to return the input/output (target) data for AI/ML Model\n",
        "# Note that our goal is to predict the future stock price \n",
        "# Target stock price today will be tomorrow's price \n"
      ]
    },
    {
      "cell_type": "code",
      "execution_count": null,
      "metadata": {
        "id": "-VdtCh0BB_vH"
      },
      "outputs": [],
      "source": [
        "# Let's test the functions and get individual stock prices and volumes for AAPL\n"
      ]
    },
    {
      "cell_type": "code",
      "execution_count": null,
      "metadata": {
        "id": "8sZ9a0mMCYq-"
      },
      "outputs": [],
      "source": []
    },
    {
      "cell_type": "code",
      "execution_count": null,
      "metadata": {
        "id": "6UdkMEUcD18c"
      },
      "outputs": [],
      "source": [
        "# Remove the last row as it will be a null value\n"
      ]
    },
    {
      "cell_type": "code",
      "execution_count": null,
      "metadata": {
        "id": "M08n1GlnZtlL"
      },
      "outputs": [],
      "source": [
        "# Scale the data\n"
      ]
    },
    {
      "cell_type": "code",
      "execution_count": null,
      "metadata": {
        "id": "4zq-g6ifiAxz"
      },
      "outputs": [],
      "source": []
    },
    {
      "cell_type": "code",
      "execution_count": null,
      "metadata": {
        "id": "WO3fljBwZ7S9"
      },
      "outputs": [],
      "source": []
    },
    {
      "cell_type": "code",
      "execution_count": null,
      "metadata": {
        "id": "RvVJa_UvD_uB"
      },
      "outputs": [],
      "source": [
        "# Create Feature and Target\n"
      ]
    },
    {
      "cell_type": "code",
      "execution_count": null,
      "metadata": {
        "id": "3fo5uTvyOuPQ"
      },
      "outputs": [],
      "source": []
    },
    {
      "cell_type": "code",
      "execution_count": null,
      "metadata": {
        "id": "T_cEMuWBOzZt"
      },
      "outputs": [],
      "source": []
    },
    {
      "cell_type": "code",
      "execution_count": null,
      "metadata": {
        "id": "HIlzHnyxGoXI"
      },
      "outputs": [],
      "source": [
        "# Spliting the data this way, since order is important in time-series\n",
        "# Note that we did not use train test split with it's default settings since it shuffles the data\n"
      ]
    },
    {
      "cell_type": "code",
      "execution_count": null,
      "metadata": {
        "id": "-cg-HNcvFJak"
      },
      "outputs": [],
      "source": []
    },
    {
      "cell_type": "code",
      "execution_count": null,
      "metadata": {
        "id": "gH88gQ1vif5j"
      },
      "outputs": [],
      "source": []
    },
    {
      "cell_type": "code",
      "execution_count": null,
      "metadata": {
        "id": "DkHMQQVAPJvb"
      },
      "outputs": [],
      "source": []
    },
    {
      "cell_type": "code",
      "execution_count": null,
      "metadata": {
        "id": "pYNTq_F0PR0C"
      },
      "outputs": [],
      "source": []
    },
    {
      "cell_type": "code",
      "execution_count": null,
      "metadata": {
        "id": "kZWI-GhZPWIJ"
      },
      "outputs": [],
      "source": []
    },
    {
      "cell_type": "code",
      "execution_count": null,
      "metadata": {
        "id": "AngtzCsFPc4g"
      },
      "outputs": [],
      "source": []
    },
    {
      "cell_type": "code",
      "execution_count": null,
      "metadata": {
        "id": "05EDujLnPc2P"
      },
      "outputs": [],
      "source": []
    },
    {
      "cell_type": "code",
      "execution_count": null,
      "metadata": {
        "id": "GFtSZ4_lk4Aq"
      },
      "outputs": [],
      "source": [
        "# Define a data plotting function\n",
        "\n",
        "\n"
      ]
    },
    {
      "cell_type": "markdown",
      "metadata": {
        "id": "a-Hm8xa9kPH_"
      },
      "source": [
        "**MINI CHALLENGE #3:**\n",
        "- **Test the created pipeline with S&P500 and Amazon datasets**"
      ]
    },
    {
      "cell_type": "code",
      "execution_count": null,
      "metadata": {
        "id": "JAWNvyQ496Q-"
      },
      "outputs": [],
      "source": []
    },
    {
      "cell_type": "markdown",
      "metadata": {
        "id": "3L9IZXbB_JEu"
      },
      "source": [
        "# TASK #5: UNDERSTAND THE THEORY AND INTUITION BEHIND REGRESSION "
      ]
    },
    {
      "cell_type": "markdown",
      "metadata": {
        "id": "c-8o7GKqrpxW"
      },
      "source": [
        "![alt text](https://drive.google.com/uc?id=1wJHaXRzsqMi713Qkzo2IQgZTmsDxU8f7)"
      ]
    },
    {
      "cell_type": "markdown",
      "metadata": {
        "id": "20Lu4pwHr9Kn"
      },
      "source": [
        "![alt text](https://drive.google.com/uc?id=1vDuV9M1b6KF5yIvWpiUqhI7zSr7CKk5g)"
      ]
    },
    {
      "cell_type": "markdown",
      "metadata": {
        "id": "XanItQ7dr9fb"
      },
      "source": [
        "![alt text](https://drive.google.com/uc?id=1H-wED3vnYj3ZpsvK0dOEPwYGVjSVhpfI)"
      ]
    },
    {
      "cell_type": "markdown",
      "metadata": {
        "id": "v9v70Skjr9nM"
      },
      "source": [
        "![alt text](https://drive.google.com/uc?id=1KM0yvHp1DjVZ87uf68yJdqj2Sh_oTLLT)"
      ]
    },
    {
      "cell_type": "markdown",
      "metadata": {
        "id": "4VFLC6-ggdLH"
      },
      "source": [
        "# TASK #6: UNDERSTAND THE CONCEPT OF REGULARIZATION & RIDGE REGRESSION"
      ]
    },
    {
      "cell_type": "markdown",
      "metadata": {
        "id": "HByHVSuEr9xM"
      },
      "source": [
        "![alt text](https://drive.google.com/uc?id=1m9NX1aEDLAW2QCqeiQMYggnY3ovVW8QO)"
      ]
    },
    {
      "cell_type": "markdown",
      "metadata": {
        "id": "54t65rEZr91p"
      },
      "source": [
        "![alt text](https://drive.google.com/uc?id=13Wn7UkxVkbRlIiJ-rZIrqAItfumj_wzi)"
      ]
    },
    {
      "cell_type": "markdown",
      "metadata": {
        "id": "Rr15j2Glr9-7"
      },
      "source": [
        "![alt text](https://drive.google.com/uc?id=1WB1wdMUYqDNAhCytmk889w9SVQQVrwlt)"
      ]
    },
    {
      "cell_type": "markdown",
      "metadata": {
        "id": "bq6MBEUGr-A-"
      },
      "source": [
        "![alt text](https://drive.google.com/uc?id=1IsQLtMZbKMyITX_FVr50ZkB68uUuQwmB)"
      ]
    },
    {
      "cell_type": "markdown",
      "metadata": {
        "id": "ahHVswb1r-C_"
      },
      "source": [
        "![alt text](https://drive.google.com/uc?id=1D37GCrEMLdFwjTQL9WIoPEsLlEyITuX5)"
      ]
    },
    {
      "cell_type": "markdown",
      "metadata": {
        "id": "6tLvna5Gr-FL"
      },
      "source": [
        "![alt text](https://drive.google.com/uc?id=1IBz73HFZPUD6wTEoerXGFTJKhhZyAyb9)"
      ]
    },
    {
      "cell_type": "markdown",
      "metadata": {
        "id": "2FVSgRmFFkW5"
      },
      "source": [
        "# TASK #7: BUILD AND TRAIN A RIDGE LINEAR REGRESSION MODEL"
      ]
    },
    {
      "cell_type": "code",
      "execution_count": null,
      "metadata": {
        "id": "QECbURfqFvBP"
      },
      "outputs": [],
      "source": [
        "from sklearn.linear_model import Ridge\n",
        "# Note that Ridge regression performs linear least squares with L2 regularization.\n",
        "# Create and train the Ridge Linear Regression  Model\n"
      ]
    },
    {
      "cell_type": "code",
      "execution_count": null,
      "metadata": {
        "id": "gFxXpwVfWPaC"
      },
      "outputs": [],
      "source": [
        "# Test the model and calculate its accuracy \n"
      ]
    },
    {
      "cell_type": "code",
      "execution_count": null,
      "metadata": {
        "id": "V1Jw5dmMJGwP"
      },
      "outputs": [],
      "source": [
        "# Make Prediction\n"
      ]
    },
    {
      "cell_type": "code",
      "execution_count": null,
      "metadata": {
        "id": "2VNXZpyehMct"
      },
      "outputs": [],
      "source": [
        "# Append the predicted values into a list\n"
      ]
    },
    {
      "cell_type": "code",
      "execution_count": null,
      "metadata": {
        "id": "uYzR5OwB8a4E"
      },
      "outputs": [],
      "source": []
    },
    {
      "cell_type": "code",
      "execution_count": null,
      "metadata": {
        "id": "AYGT3NAlah-1"
      },
      "outputs": [],
      "source": [
        "# Append the close values to the list\n",
        "\n"
      ]
    },
    {
      "cell_type": "code",
      "execution_count": null,
      "metadata": {
        "id": "KAZJ5HnsJjDH"
      },
      "outputs": [],
      "source": [
        "# Create a dataframe based on the dates in the individual stock data\n"
      ]
    },
    {
      "cell_type": "code",
      "execution_count": null,
      "metadata": {
        "id": "ap51j2zMbukl"
      },
      "outputs": [],
      "source": [
        "# Add the close values to the dataframe\n"
      ]
    },
    {
      "cell_type": "code",
      "execution_count": null,
      "metadata": {
        "id": "xTvlo0ZpJ2Sn"
      },
      "outputs": [],
      "source": [
        "# Add the predicted values to the dataframe\n"
      ]
    },
    {
      "cell_type": "code",
      "execution_count": null,
      "metadata": {
        "id": "d8OSiw6IKBXX"
      },
      "outputs": [],
      "source": [
        "# Plot the results\n"
      ]
    },
    {
      "cell_type": "markdown",
      "metadata": {
        "id": "vX880Oao92hV"
      },
      "source": [
        "**MINI CHALLENGE #4:**\n",
        "- **Experiment with various regularization values for alpha** \n",
        "- **What is the impact of increasing alpha?**\n",
        "- **Note: default value for alpha is = 1**\n"
      ]
    },
    {
      "cell_type": "code",
      "execution_count": null,
      "metadata": {
        "id": "rvszb61h-U7d"
      },
      "outputs": [],
      "source": []
    },
    {
      "cell_type": "markdown",
      "metadata": {
        "id": "0nFLBX8zmngT"
      },
      "source": [
        "# TASK #8: UNDERSTAND THE THEORY AND INTUITION BEHIND NEURAL NETWORKS"
      ]
    },
    {
      "cell_type": "markdown",
      "metadata": {
        "id": "6v2WxCTHr-JN"
      },
      "source": [
        "![alt text](https://drive.google.com/uc?id=1U2auh7KSalF4qc8iWFScawEB3TniFeXw)"
      ]
    },
    {
      "cell_type": "markdown",
      "metadata": {
        "id": "Z7PIHLB3r-Qp"
      },
      "source": [
        "![alt text](https://drive.google.com/uc?id=1xsy74Dj9JyuvwcPzmQcwN9hzHGevAvKB)"
      ]
    },
    {
      "cell_type": "markdown",
      "metadata": {
        "id": "BTWwwQl5r-S_"
      },
      "source": [
        "![alt text](https://drive.google.com/uc?id=1b2wIRl63jXgyoh_w1ysxk3XvTJ5j8864)"
      ]
    },
    {
      "cell_type": "markdown",
      "metadata": {
        "id": "liBQUqelyoPD"
      },
      "source": [
        "# TASK #9: UNDERSTAND HOW DO ARTFICIAL NEURAL NETWORKS TRAIN "
      ]
    },
    {
      "cell_type": "markdown",
      "metadata": {
        "id": "tZsmueG8r-VN"
      },
      "source": [
        "![alt text](https://drive.google.com/uc?id=1pg1rxBoHDtRNVNN0TyMvnCMVKw9ni5pN)"
      ]
    },
    {
      "cell_type": "markdown",
      "metadata": {
        "id": "YOB2MNCXr-X2"
      },
      "source": [
        "![alt text](https://drive.google.com/uc?id=1wc4NOBLC55Hb2s8s_hLI2LWykV4WmLwU)"
      ]
    },
    {
      "cell_type": "markdown",
      "metadata": {
        "id": "E7Pr4BgOr-aS"
      },
      "source": [
        "![alt text](https://drive.google.com/uc?id=1zI3MbDUAws-gpPisqDrVL8BoupWRO6KJ)"
      ]
    },
    {
      "cell_type": "markdown",
      "metadata": {
        "id": "3tx6z-y4r-cd"
      },
      "source": [
        "![alt text](https://drive.google.com/uc?id=1twCXUdFtdFMGsicoQOWI0a9RiHMZ9MK_)"
      ]
    },
    {
      "cell_type": "markdown",
      "metadata": {
        "id": "MLVvVZzEy5I2"
      },
      "source": [
        "# TASK #10: UNDERSTAND THE THEORY AND INTUITION BEHIND RECURRENT NEURAL NETWORKS"
      ]
    },
    {
      "cell_type": "markdown",
      "metadata": {
        "id": "y8rHBMBKr-ey"
      },
      "source": [
        "![alt text](https://drive.google.com/uc?id=1a6w38XX_W2Zcsvde5FDepUax1aRyvnBT)"
      ]
    },
    {
      "cell_type": "markdown",
      "metadata": {
        "id": "KmDdrLdXr9-G"
      },
      "source": [
        "![alt text](https://drive.google.com/uc?id=1tc1SRSaFp-zuvujAQY66E_JEoY6doI0m)"
      ]
    },
    {
      "cell_type": "markdown",
      "metadata": {
        "id": "RmSRXe1Mr95B"
      },
      "source": [
        "![alt text](https://drive.google.com/uc?id=10xmgZjv2IjaY4xFm81rwgKqOC0119tug)"
      ]
    },
    {
      "cell_type": "markdown",
      "metadata": {
        "id": "4Oru5hmFvlsL"
      },
      "source": [
        "![alt text](https://drive.google.com/uc?id=1CwBOagYD82QaayeGDndRjb_Irm5HIwBs)"
      ]
    },
    {
      "cell_type": "markdown",
      "metadata": {
        "id": "3SvxVh1Xvl1z"
      },
      "source": [
        "![alt text](https://drive.google.com/uc?id=148mslyqerZ_gLzQIkPFiDsewCO5nMNK7)"
      ]
    },
    {
      "cell_type": "markdown",
      "metadata": {
        "id": "EaENxN6Lvl65"
      },
      "source": [
        "![alt text](https://drive.google.com/uc?id=1_Ky5ek9gq_Ov6VLTkXFmmzEhvjo91tpB)"
      ]
    },
    {
      "cell_type": "markdown",
      "metadata": {
        "id": "b_ucc-z2_Y8z"
      },
      "source": [
        "# TASK #11: UNDERSTAND THE THEORY AND INTUITION BEHIND LONG SHORT TERM MEMORY NETWORKS"
      ]
    },
    {
      "cell_type": "markdown",
      "metadata": {
        "id": "tv1OwUFYvl9G"
      },
      "source": [
        "![alt text](https://drive.google.com/uc?id=1cd3jZpTuSzsPjMps6SRFqvXNfs4jA_vu)"
      ]
    },
    {
      "cell_type": "markdown",
      "metadata": {
        "id": "rnciLV3Evl_i"
      },
      "source": [
        "![alt text](https://drive.google.com/uc?id=1URS5Ny54g-c3ookAL1FLn28TYFlbDIdG)"
      ]
    },
    {
      "cell_type": "markdown",
      "metadata": {
        "id": "J_ND1n67vmCX"
      },
      "source": [
        "![alt text](https://drive.google.com/uc?id=1Cm3Unnn_b71rfklW_ejm50xYOYkXh8cl)"
      ]
    },
    {
      "cell_type": "markdown",
      "metadata": {
        "id": "aAZRk8GPvmFH"
      },
      "source": [
        "![alt text](https://drive.google.com/uc?id=1pU8lbF965n38ZspjIFsEAU3CEjpclpfd)"
      ]
    },
    {
      "cell_type": "markdown",
      "metadata": {
        "id": "7_CvxPPqvmHW"
      },
      "source": [
        "![alt text](https://drive.google.com/uc?id=1zSqTnPZDfiz6qRgMHaFB9wpB55Fnzwf4)"
      ]
    },
    {
      "cell_type": "markdown",
      "metadata": {
        "id": "vazFXbaOUBPt"
      },
      "source": [
        "# TASK #12: TRAIN AN LSTM TIME SERIES MODEL"
      ]
    },
    {
      "cell_type": "code",
      "execution_count": null,
      "metadata": {
        "id": "9EIXG9USAXRa"
      },
      "outputs": [],
      "source": [
        "# Let's test the functions and get individual stock prices and volumes for AAPL\n"
      ]
    },
    {
      "cell_type": "code",
      "execution_count": null,
      "metadata": {
        "id": "U-vk2wswjHSV"
      },
      "outputs": [],
      "source": [
        "# Get the close and volume data as training data (Input)\n"
      ]
    },
    {
      "cell_type": "code",
      "execution_count": null,
      "metadata": {
        "id": "3v0W8w5hUznl"
      },
      "outputs": [],
      "source": [
        "# Normalize the data\n"
      ]
    },
    {
      "cell_type": "code",
      "execution_count": null,
      "metadata": {
        "id": "j0qoyucIdSUm"
      },
      "outputs": [],
      "source": [
        "# Create the training and testing data, training data contains present day and previous day values\n"
      ]
    },
    {
      "cell_type": "code",
      "execution_count": null,
      "metadata": {
        "id": "NhoAnE5BBy4q"
      },
      "outputs": [],
      "source": []
    },
    {
      "cell_type": "code",
      "execution_count": null,
      "metadata": {
        "id": "x8wykXAUbKI8"
      },
      "outputs": [],
      "source": [
        "# Convert the data into array format\n"
      ]
    },
    {
      "cell_type": "code",
      "execution_count": null,
      "metadata": {
        "id": "hphqavfBne49"
      },
      "outputs": [],
      "source": [
        "# Split the data\n"
      ]
    },
    {
      "cell_type": "code",
      "execution_count": null,
      "metadata": {
        "id": "6_A1uNwzDd40"
      },
      "outputs": [],
      "source": [
        "# Reshape the 1D arrays to 3D arrays to feed in the model\n"
      ]
    },
    {
      "cell_type": "code",
      "execution_count": null,
      "metadata": {
        "id": "6nzxE7jNFmTQ"
      },
      "outputs": [],
      "source": []
    },
    {
      "cell_type": "code",
      "execution_count": null,
      "metadata": {
        "id": "0V8kGJTqFp_e"
      },
      "outputs": [],
      "source": []
    },
    {
      "cell_type": "code",
      "execution_count": null,
      "metadata": {
        "id": "IffJgfzyFsi1"
      },
      "outputs": [],
      "source": []
    },
    {
      "cell_type": "code",
      "execution_count": null,
      "metadata": {
        "id": "wv2oJunPj7h5"
      },
      "outputs": [],
      "source": [
        "# Create the model\n"
      ]
    },
    {
      "cell_type": "code",
      "execution_count": null,
      "metadata": {
        "id": "rFjmKCd7kVm7"
      },
      "outputs": [],
      "source": [
        "# Train the model\n"
      ]
    },
    {
      "cell_type": "code",
      "execution_count": null,
      "metadata": {
        "id": "8VN54FHZefcC"
      },
      "outputs": [],
      "source": [
        "# Make prediction\n"
      ]
    },
    {
      "cell_type": "code",
      "execution_count": null,
      "metadata": {
        "id": "HppCo4lqLx8H"
      },
      "outputs": [],
      "source": []
    },
    {
      "cell_type": "code",
      "execution_count": null,
      "metadata": {
        "id": "x0gsAvg2Lx6v"
      },
      "outputs": [],
      "source": []
    },
    {
      "cell_type": "code",
      "execution_count": null,
      "metadata": {
        "id": "QScwFF4iLx41"
      },
      "outputs": [],
      "source": []
    },
    {
      "cell_type": "code",
      "execution_count": null,
      "metadata": {
        "id": "9BHuC76_Lx2D"
      },
      "outputs": [],
      "source": []
    },
    {
      "cell_type": "code",
      "execution_count": null,
      "metadata": {
        "id": "hahnz1HbH8lE"
      },
      "outputs": [],
      "source": []
    },
    {
      "cell_type": "code",
      "execution_count": null,
      "metadata": {
        "id": "dByPRHADMgDz"
      },
      "outputs": [],
      "source": []
    },
    {
      "cell_type": "code",
      "execution_count": null,
      "metadata": {
        "id": "YjvpWrbIMgCC"
      },
      "outputs": [],
      "source": []
    },
    {
      "cell_type": "code",
      "execution_count": null,
      "metadata": {
        "id": "5jouRCxhMf_-"
      },
      "outputs": [],
      "source": []
    },
    {
      "cell_type": "code",
      "execution_count": null,
      "metadata": {
        "id": "KMa3aeoOMf9e"
      },
      "outputs": [],
      "source": []
    },
    {
      "cell_type": "code",
      "execution_count": null,
      "metadata": {
        "id": "FJw2jU0uNBVG"
      },
      "outputs": [],
      "source": []
    },
    {
      "cell_type": "markdown",
      "metadata": {
        "id": "snpzZkBcFa4m"
      },
      "source": [
        "**MINI CHALLENGE #5:**\n",
        "- **Test the pipeline with at least 3 other stocks** \n",
        "- **Experiment with various LSTM model parameters (Ex: Use 150 units instead of 50), print out the model summary and retrain the model**\n"
      ]
    },
    {
      "cell_type": "code",
      "execution_count": null,
      "metadata": {
        "id": "n5GF7uKago_V"
      },
      "outputs": [],
      "source": []
    },
    {
      "cell_type": "markdown",
      "metadata": {
        "id": "dYPapeVp2xgY"
      },
      "source": [
        "# **EXCELLENT JOB! YOU SHOULD BE TRULY PROUD WITH THE NEWLY ACQUIRED SKILLS**"
      ]
    },
    {
      "cell_type": "markdown",
      "metadata": {
        "id": "F_7ATiEAdhD4"
      },
      "source": [
        "# **MINI CHALLENGE SOLUTIONS**"
      ]
    },
    {
      "cell_type": "markdown",
      "metadata": {
        "id": "tgnAxNwmdbek"
      },
      "source": [
        "**MINI CHALLENGE #1 SOLUTION:**\n",
        "- **What is the average trading volume for Apple stock?**\n",
        "- **What is the maximum trading volume for sp500?**\n",
        "- **Which security is traded the most? comment on your answer**\n",
        "- **What is the average stock price of the S&P500 over the specified time period?**\n",
        "- **What is the maximum price of Tesla Stock?**"
      ]
    },
    {
      "cell_type": "code",
      "execution_count": null,
      "metadata": {
        "id": "w172J9nFnRE1"
      },
      "outputs": [],
      "source": [
        "# Get the statistical data for the stocks volume dataframe\n",
        "# Average trading volume for Apple stock is 2.498238e+06\t\n",
        "# Average trading volume for S&P500 is 3.680732e+09\n",
        "\n",
        "# Why S&P500 is the most traded of all? Check out this article: \n",
        "# https://www.investopedia.com/articles/personal-finance/022216/put-10000-sp-500-etf-and-wait-20-years.asp\n",
        "\n",
        "# Text from the article above:\n",
        "# \"The S&P 500 index is a broad-based measure of large corporations traded on U.S. stock markets. Over long periods of time, \n",
        "# passively holding the index often produces better results than actively trading or picking single stocks.\n",
        "# Over long-time horizons, the index typically produces better returns than actively managed portfolios.\"\n",
        "\n",
        "stock_vol_df.describe()"
      ]
    },
    {
      "cell_type": "code",
      "execution_count": null,
      "metadata": {
        "id": "ZKZPnAQMdcUG"
      },
      "outputs": [],
      "source": [
        "# Get the statistical data for the prices dataframe\n",
        "stock_price_df.describe()"
      ]
    },
    {
      "cell_type": "code",
      "execution_count": null,
      "metadata": {
        "id": "BP7n-T5Ld3Jj"
      },
      "outputs": [],
      "source": [
        "# Average price for S&P500 = 2218.749554\n",
        "# Maximum Tesla Price = 1643.000000"
      ]
    },
    {
      "cell_type": "markdown",
      "metadata": {
        "id": "XMEDxZNrgW8Q"
      },
      "source": [
        "**MINI CHALLENGE #2 SOLUTION:**\n",
        "- **Plot the normalized stock prices and volume dataset.**"
      ]
    },
    {
      "cell_type": "code",
      "execution_count": null,
      "metadata": {
        "id": "sLVnHTaa2_2M"
      },
      "outputs": [],
      "source": [
        "# Plot interactive chart for volume data\n",
        "# Notice that S&P500 trading is orders of magnitude compared to individual stocks\n",
        "interactive_plot(stock_vol_df, 'Stocks Volume')"
      ]
    },
    {
      "cell_type": "code",
      "execution_count": null,
      "metadata": {
        "id": "MFJqv0fIgUmt"
      },
      "outputs": [],
      "source": [
        "# plot interactive chart for normalized stocks prices data\n",
        "interactive_plot(normalize(stock_price_df), 'Stock Prices')\n",
        "\n",
        "# Let's normalize the data and re-plot interactive chart for volume data\n",
        "interactive_plot(normalize(stock_vol_df), 'Normalized Volume')"
      ]
    },
    {
      "cell_type": "markdown",
      "metadata": {
        "id": "shhK922qkgYK"
      },
      "source": [
        "**MINI CHALLENGE #3 SOLUTION:**\n",
        "- **Test the pipeline with S&P500 and AMZN datasets instead of AAPL**"
      ]
    },
    {
      "cell_type": "code",
      "execution_count": null,
      "metadata": {
        "id": "ODvAnbO6kf3V"
      },
      "outputs": [],
      "source": [
        "# Let's test the functions and get individual stock prices and volumes for S&P500\n",
        "price_volume_df = individual_stock(stock_price_df, stock_vol_df, 'sp500')\n",
        "price_volume_df\n",
        "\n",
        "# Let's test the functions and get individual stock prices and volumes for Amazon \n",
        "price_volume_df = individual_stock(stock_price_df, stock_vol_df, 'AMZN')\n",
        "price_volume_df"
      ]
    },
    {
      "cell_type": "markdown",
      "metadata": {
        "id": "2nf9eUW6-fmz"
      },
      "source": [
        "**MINI CHALLENGE #4 SOLUTION:**\n",
        "- **Experiment with various regularization value for alpha** \n",
        "- **What is the impact of increasing alpha?**\n",
        "- **Note: default value for alpha is = 1**"
      ]
    },
    {
      "cell_type": "code",
      "execution_count": null,
      "metadata": {
        "id": "MfqlLqNm-g8c"
      },
      "outputs": [],
      "source": [
        "from sklearn.linear_model import Ridge\n",
        "# Note that Ridge regression performs linear least squares with L2 regularization.\n",
        "# Create and train the Ridge Linear Regression  Model\n",
        "regression_model = Ridge(alpha = 2)\n",
        "regression_model.fit(X_train, y_train)"
      ]
    },
    {
      "cell_type": "markdown",
      "metadata": {
        "id": "rYR4L_0tH3wO"
      },
      "source": [
        "**MINI CHALLENGE #5 SOLUTION:**\n",
        "- **Test the pipeline with at least 3 other stocks** \n",
        "- **Experiment with various LSTM model parameters (Ex: Use 150 units instead of 50), print out the model summary and retrain the model**\n",
        "\n"
      ]
    },
    {
      "cell_type": "code",
      "execution_count": null,
      "metadata": {
        "id": "WnVlMGwV-sys"
      },
      "outputs": [],
      "source": [
        "# Create the model\n",
        "inputs = keras.layers.Input(shape=(X_train.shape[1], X_train.shape[2]))\n",
        "x = keras.layers.LSTM(150, return_sequences= True)(inputs)\n",
        "x = keras.layers.Dropout(0.3)(x)\n",
        "x = keras.layers.LSTM(150, return_sequences=True)(x)\n",
        "x = keras.layers.Dropout(0.3)(x)\n",
        "x = keras.layers.LSTM(150)(x)\n",
        "outputs = keras.layers.Dense(1, activation='linear')(x)\n",
        "\n",
        "model = keras.Model(inputs=inputs, outputs=outputs)\n",
        "model.compile(optimizer='adam', loss=\"mse\")\n",
        "model.summary()"
      ]
    }
  ],
  "metadata": {
    "colab": {
      "provenance": []
    },
    "kernelspec": {
      "display_name": "Python 3.8.12 ('spvenv': venv)",
      "language": "python",
      "name": "python3"
    },
    "language_info": {
      "codemirror_mode": {
        "name": "ipython",
        "version": 3
      },
      "file_extension": ".py",
      "mimetype": "text/x-python",
      "name": "python",
      "nbconvert_exporter": "python",
      "pygments_lexer": "ipython3",
      "version": "3.8.12"
    },
    "vscode": {
      "interpreter": {
        "hash": "92c8867a93de2738db08901520ce9dfd47c1c00492db4bd042c91bcc7a9a9303"
      }
    }
  },
  "nbformat": 4,
  "nbformat_minor": 0
}
